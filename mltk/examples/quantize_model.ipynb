{
 "cells": [
  {
   "cell_type": "markdown",
   "metadata": {},
   "source": [
    "# Model Quantization API Examples\n",
    "\n",
    "This demonstrates how to use the [quantize_model](https://siliconlabs.github.io/mltk/docs/python_api/operations.html#quantize_model) API.\n",
    "\n",
    "Refer to the [Model Quantization](https://siliconlabs.github.io/mltk/docs/guides/model_quantization.html) guide for more details.\n",
    "\n",
    "__NOTES:__  \n",
    "\n",
    "- Click here: [![Open In Colab](https://colab.research.google.com/assets/colab-badge.svg)](https://colab.research.google.com/github/siliconlabs/mltk/blob/master/mltk/examples/quantize_model.ipynb) to run this example interactively in your browser  \n",
    "- Refer to the [Notebook Examples Guide](https://siliconlabs.github.io/mltk/docs/guides/notebook_examples_guide.html) for how to run this example locally in VSCode  "
   ]
  },
  {
   "cell_type": "markdown",
   "metadata": {},
   "source": [
    "## Install MLTK Python Package"
   ]
  },
  {
   "cell_type": "code",
   "execution_count": 1,
   "metadata": {},
   "outputs": [],
   "source": [
    "# Install the MLTK Python package (if necessary)\n",
    "!pip install --upgrade silabs-mltk"
   ]
  },
  {
   "cell_type": "markdown",
   "metadata": {},
   "source": [
    "## Import Python Packages"
   ]
  },
  {
   "cell_type": "code",
   "execution_count": 2,
   "metadata": {},
   "outputs": [],
   "source": [
    "# Import the necessary MLTK APIs\n",
    "from mltk.core import quantize_model"
   ]
  },
  {
   "cell_type": "markdown",
   "metadata": {},
   "source": [
    "## Example 1: Update .tflite in model archive\n",
    "\n",
    "The most common use case of the [quantize_model](https://siliconlabs.github.io/mltk/docs/python_api/operations.html#quantize_model) API is:  \n",
    "1. Fully [train](https://siliconlabs.github.io/mltk/docs/guides/model_training.html) a model  \n",
    "2. Later modify the [TrainMixin.tflite_converter](https://siliconlabs.github.io/mltk/docs/python_api/core/mltk_model.html#mltk.core.TrainMixin.tflite_converter) settings in the [model specification](https://siliconlabs.github.io/mltk/docs/guides/model_specification.html) script  \n",
    "3. Run the [quantize_model](https://siliconlabs.github.io/mltk/docs/python_api/operations.html#quantize_model) API to update the `.tflite` model file in the [model archive](https://siliconlabs.github.io/mltk/docs/guides/model_archive.html).\n",
    "\n",
    "In this example, it's assumed that the [TrainMixin.tflite_converter](https://siliconlabs.github.io/mltk/docs/python_api/core/mltk_model.html#mltk.core.TrainMixin.tflite_converter) settings in\n",
    "the [image_example1](https://siliconlabs.github.io/mltk/docs/python_api/models/examples/image_example1.html) model specification script have been modified _after_ the model have been\n",
    "trained.\n",
    "\n",
    "After this API completes, the `image_example1.mltk.zip` model archive is updated with a new `image_example1.tflite` model file."
   ]
  },
  {
   "cell_type": "code",
   "execution_count": 3,
   "metadata": {},
   "outputs": [
    {
     "name": "stdout",
     "output_type": "stream",
     "text": [
      "INFO:tensorflow:Assets written to: E:\\tmpguttx09w\\assets\n"
     ]
    }
   ],
   "source": [
    "tflite_path = quantize_model('image_example1')"
   ]
  }
 ],
 "metadata": {
  "interpreter": {
   "hash": "d2cfb25ea30f37ddda2085817c91f6bd2a4a914387b5b179eb21bf4600b69cf8"
  },
  "kernelspec": {
   "display_name": "Python 3.9.7 64-bit ('.venv': venv)",
   "name": "python3"
  },
  "language_info": {
   "codemirror_mode": {
    "name": "ipython",
    "version": 3
   },
   "file_extension": ".py",
   "mimetype": "text/x-python",
   "name": "python",
   "nbconvert_exporter": "python",
   "pygments_lexer": "ipython3",
   "version": "3.9.7"
  },
  "orig_nbformat": 4
 },
 "nbformat": 4,
 "nbformat_minor": 2
}
