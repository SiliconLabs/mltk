{
 "cells": [
  {
   "cell_type": "markdown",
   "metadata": {},
   "source": [
    "# Model Profiler API Examples\n",
    "\n",
    "This demonstrates how to use the [profile_model](https://siliconlabs.github.io/mltk/docs/python_api/operations/profile.html) API.\n",
    "\n",
    "Refer to the [Model Profiler](https://siliconlabs.github.io/mltk/docs/guides/model_profiler.html) guide for more details.\n",
    "\n",
    "__NOTES:__  \n",
    "- Click here: [![Open In Colab](https://colab.research.google.com/assets/colab-badge.svg)](https://colab.research.google.com/github/siliconlabs/mltk/blob/master/mltk/examples/profile_model.ipynb) to run this example interactively in your browser  \n",
    "- Refer to the [Notebook Examples Guide](https://siliconlabs.github.io/mltk/docs/guides/notebook_examples_guide.html) for how to run this example locally in VSCode  "
   ]
  },
  {
   "cell_type": "markdown",
   "metadata": {},
   "source": [
    "## Install MLTK Python Package"
   ]
  },
  {
   "cell_type": "code",
   "execution_count": 1,
   "metadata": {},
   "outputs": [],
   "source": [
    "# Install the MLTK Python package (if necessary)\n",
    "!pip install --upgrade silabs-mltk"
   ]
  },
  {
   "cell_type": "markdown",
   "metadata": {},
   "source": [
    "## Import Python Packages"
   ]
  },
  {
   "cell_type": "code",
   "execution_count": 1,
   "metadata": {},
   "outputs": [],
   "source": [
    "# Import the standard Python packages used by the examples\n",
    "import os\n",
    "import urllib\n",
    "import shutil\n",
    "import tempfile\n",
    "\n",
    "# Import the necessary MLTK APIs\n",
    "from mltk.core import profile_model\n",
    "from mltk.utils.commander import query_platform"
   ]
  },
  {
   "cell_type": "markdown",
   "metadata": {},
   "source": [
    "## Download .tflite model file\n",
    "\n",
    "A `.tflite` model file is required to run these examples.  \n",
    "The following code downloads a model.\n",
    "\n",
    "__NOTE:__ Update `TFLITE_MODEL_URL` or `tflite_path` to point to your model if necesary"
   ]
  },
  {
   "cell_type": "code",
   "execution_count": 2,
   "metadata": {},
   "outputs": [],
   "source": [
    "# Use .tflite mode found here:\n",
    "# https://github.com/siliconlabs/mltk/tree/master/mltk/utils/test_helper/data/\n",
    "# NOTE: Update this URL to point to your model if necessary\n",
    "TFLITE_MODEL_URL = 'https://github.com/siliconlabs/mltk/raw/master/mltk/utils/test_helper/data/image_example1.tflite'\n",
    "\n",
    "# Download the .tflite file and save to the temp dir\n",
    "tflite_path = os.path.normpath(f'{tempfile.gettempdir()}/image_example1.tflite')\n",
    "with open(tflite_path, 'wb') as dst:\n",
    "    with urllib.request.urlopen(TFLITE_MODEL_URL) as src:\n",
    "        shutil.copyfileobj(src, dst)"
   ]
  },
  {
   "cell_type": "markdown",
   "metadata": {},
   "source": [
    "## Example 1: Profile .tflite file in basic simulator\n",
    "\n",
    "This example profiles the `.tflite` model file in the \"basic simulator\" of the model profiler."
   ]
  },
  {
   "cell_type": "code",
   "execution_count": 3,
   "metadata": {},
   "outputs": [
    {
     "name": "stdout",
     "output_type": "stream",
     "text": [
      "Profiling Summary\n",
      "Name: image_example1\n",
      "Accelerator: None\n",
      "Input Shape: 1x96x96x1\n",
      "Input Data Type: int8\n",
      "Output Shape: 1x3\n",
      "Output Data Type: int8\n",
      "Flash, Model File Size (bytes): 15.7k\n",
      "RAM, Runtime Memory Size (bytes): 71.5k\n",
      "Operation Count: 2.6M\n",
      "Multiply-Accumulate Count: 1.2M\n",
      "Layer Count: 8\n",
      "Unsupported Layer Count: 0\n",
      "CPU Cycle Count: 13.1M\n",
      "CPU Utilization (%): 0.0\n",
      "Clock Rate (hz): 78.0M\n",
      "Energy (J): 2.3m\n",
      "J/Op: 884.5p\n",
      "J/MAC: 2.0n\n",
      "\n",
      "Model Layers\n",
      "+-------+-----------------+--------+--------+------------+------------+-------------------------+--------------+-----------------------------------------------------+\n",
      "| Index | OpCode          | # Ops  | # MACs | CPU Cycles | Energy (J) | Input Shape             | Output Shape | Options                                             |\n",
      "+-------+-----------------+--------+--------+------------+------------+-------------------------+--------------+-----------------------------------------------------+\n",
      "| 0     | conv_2d         | 1.2M   | 497.7k | 10.0M      | 1.9m       | 1x96x96x1,24x3x3x1,24   | 1x48x48x24   | Padding:same stride:2x2 activation:relu             |\n",
      "| 1     | average_pool_2d | 69.1k  | 0      | 985.7k     | 148.0u     | 1x48x48x24              | 1x24x24x24   | Padding:valid stride:2x2 filter:2x2 activation:none |\n",
      "| 2     | conv_2d         | 842.2k | 418.2k | 1.3M       | 187.5u     | 1x24x24x24,16x3x3x24,16 | 1x11x11x16   | Padding:valid stride:2x2 activation:relu            |\n",
      "| 3     | conv_2d         | 565.7k | 279.9k | 718.6k     | 105.7u     | 1x11x11x16,24x3x3x16,24 | 1x9x9x24     | Padding:valid stride:1x1 activation:relu            |\n",
      "| 4     | average_pool_2d | 1.9k   | 0      | 30.8k      | 9.3u       | 1x9x9x24                | 1x4x4x24     | Padding:valid stride:2x2 filter:2x2 activation:none |\n",
      "| 5     | reshape         | 0      | 0      | 250.4      | 0.0p       | 1x4x4x24,2              | 1x384        | Type=none                                           |\n",
      "| 6     | fully_connected | 2.3k   | 1.2k   | 5.2k       | 21.5n      | 1x384,3x384,3           | 1x3          | Activation:none                                     |\n",
      "| 7     | softmax         | 15.0   | 0      | 3.8k       | 16.5n      | 1x3                     | 1x3          | Type=softmaxoptions                                 |\n",
      "+-------+-----------------+--------+--------+------------+------------+-------------------------+--------------+-----------------------------------------------------+\n"
     ]
    }
   ],
   "source": [
    "# Profile the tflite model using the \"basic simulator\"\n",
    "# NOTE: Update tflite_path to point to your model if necessary\n",
    "profiling_results = profile_model(tflite_path, return_estimates=True)\n",
    "\n",
    "# Print the profiling results\n",
    "print(profiling_results)"
   ]
  },
  {
   "cell_type": "markdown",
   "metadata": {},
   "source": [
    "## Example 2: Profile .tflite file in MVP hardware simulator\n",
    "\n",
    "This example profiles the `.tflite` model file in the MVP hardware accelerator simulator of the model profiler."
   ]
  },
  {
   "cell_type": "code",
   "execution_count": 4,
   "metadata": {},
   "outputs": [
    {
     "name": "stdout",
     "output_type": "stream",
     "text": [
      "Profiling Summary\n",
      "Name: image_example1\n",
      "Accelerator: MVP\n",
      "Input Shape: 1x96x96x1\n",
      "Input Data Type: int8\n",
      "Output Shape: 1x3\n",
      "Output Data Type: int8\n",
      "Flash, Model File Size (bytes): 15.7k\n",
      "RAM, Runtime Memory Size (bytes): 85.3k\n",
      "Operation Count: 2.6M\n",
      "Multiply-Accumulate Count: 1.2M\n",
      "Layer Count: 8\n",
      "Unsupported Layer Count: 0\n",
      "Accelerator Cycle Count: 1.1M\n",
      "CPU Cycle Count: 81.3k\n",
      "CPU Utilization (%): 0.0\n",
      "Clock Rate (hz): 78.0M\n",
      "Energy (J): 153.0u\n",
      "J/Op: 57.9p\n",
      "J/MAC: 127.8p\n",
      "\n",
      "Model Layers\n",
      "+-------+-----------------+--------+--------+------------+------------+------------+-------------------------+--------------+-----------------------------------------------------+\n",
      "| Index | OpCode          | # Ops  | # MACs | Acc Cycles | CPU Cycles | Energy (J) | Input Shape             | Output Shape | Options                                             |\n",
      "+-------+-----------------+--------+--------+------------+------------+------------+-------------------------+--------------+-----------------------------------------------------+\n",
      "| 0     | conv_2d         | 1.2M   | 497.7k | 719.0k     | 11.2k      | 52.4u      | 1x96x96x1,24x3x3x1,24   | 1x48x48x24   | Padding:same stride:2x2 activation:relu             |\n",
      "| 1     | average_pool_2d | 69.1k  | 0      | 48.4k      | 22.7k      | 5.4u       | 1x48x48x24              | 1x24x24x24   | Padding:valid stride:2x2 filter:2x2 activation:none |\n",
      "| 2     | conv_2d         | 842.2k | 418.2k | 223.8k     | 5.9k       | 45.7u      | 1x24x24x24,16x3x3x24,16 | 1x11x11x16   | Padding:valid stride:2x2 activation:relu            |\n",
      "| 3     | conv_2d         | 565.7k | 279.9k | 148.8k     | 8.0k       | 45.7u      | 1x11x11x16,24x3x3x16,24 | 1x9x9x24     | Padding:valid stride:1x1 activation:relu            |\n",
      "| 4     | average_pool_2d | 1.9k   | 0      | 1.3k       | 27.8k      | 3.7u       | 1x9x9x24                | 1x4x4x24     | Padding:valid stride:2x2 filter:2x2 activation:none |\n",
      "| 5     | reshape         | 0      | 0      | 0          | 250.4      | 0.0p       | 1x4x4x24,2              | 1x384        | Type=none                                           |\n",
      "| 6     | fully_connected | 2.3k   | 1.2k   | 1.7k       | 1.5k       | 49.2n      | 1x384,3x384,3           | 1x3          | Activation:none                                     |\n",
      "| 7     | softmax         | 15.0   | 0      | 0          | 3.8k       | 16.5n      | 1x3                     | 1x3          | Type=softmaxoptions                                 |\n",
      "+-------+-----------------+--------+--------+------------+------------+------------+-------------------------+--------------+-----------------------------------------------------+\n"
     ]
    }
   ],
   "source": [
    "# Profile the tflite model using the MVP hardware accelerator simulator\n",
    "# NOTE: Update tflite_path to point to your model if necessary\n",
    "profiling_results = profile_model(tflite_path, accelerator='MVP', return_estimates=True)\n",
    "\n",
    "# Print the profiling results\n",
    "print(profiling_results)"
   ]
  },
  {
   "cell_type": "markdown",
   "metadata": {},
   "source": [
    "## Example 3: Profile .tflite file on physical device\n",
    "\n",
    "This example profiles the `.tflite` model file on a physically connected embedded device.\n",
    "\n",
    "__NOTE:__ A supported development board must be connected and properly enumerated for this example to work."
   ]
  },
  {
   "cell_type": "code",
   "execution_count": 5,
   "metadata": {},
   "outputs": [
    {
     "name": "stdout",
     "output_type": "stream",
     "text": [
      "Conencted device platform: brd2601\n",
      "Profiling Summary\n",
      "Name: image_example1\n",
      "Accelerator: None\n",
      "Input Shape: 1x96x96x1\n",
      "Input Data Type: int8\n",
      "Output Shape: 1x3\n",
      "Output Data Type: int8\n",
      "Flash, Model File Size (bytes): 15.7k\n",
      "RAM, Runtime Memory Size (bytes): 71.4k\n",
      "Operation Count: 2.6M\n",
      "Multiply-Accumulate Count: 1.2M\n",
      "Layer Count: 8\n",
      "Unsupported Layer Count: 0\n",
      "CPU Cycle Count: 9.5M\n",
      "CPU Utilization (%): 100.0\n",
      "Clock Rate (hz): 78.0M\n",
      "Time (s): 119.7m\n",
      "Ops/s: 22.1M\n",
      "MACs/s: 10.0M\n",
      "Inference/s: 8.4\n",
      "\n",
      "Model Layers\n",
      "+-------+-----------------+--------+--------+------------+----------+-------------------------+--------------+-----------------------------------------------------+\n",
      "| Index | OpCode          | # Ops  | # MACs | CPU Cycles | Time (s) | Input Shape             | Output Shape | Options                                             |\n",
      "+-------+-----------------+--------+--------+------------+----------+-------------------------+--------------+-----------------------------------------------------+\n",
      "| 0     | conv_2d         | 1.2M   | 497.7k | 6.3M       | 80.0m    | 1x96x96x1,24x3x3x1,24   | 1x48x48x24   | Padding:same stride:2x2 activation:relu             |\n",
      "| 1     | average_pool_2d | 69.1k  | 0      | 759.4k     | 9.6m     | 1x48x48x24              | 1x24x24x24   | Padding:valid stride:2x2 filter:2x2 activation:none |\n",
      "| 2     | conv_2d         | 842.2k | 418.2k | 1.4M       | 17.6m    | 1x24x24x24,16x3x3x24,16 | 1x11x11x16   | Padding:valid stride:2x2 activation:relu            |\n",
      "| 3     | conv_2d         | 565.7k | 279.9k | 956.1k     | 12.1m    | 1x11x11x16,24x3x3x16,24 | 1x9x9x24     | Padding:valid stride:1x1 activation:relu            |\n",
      "| 4     | average_pool_2d | 1.9k   | 0      | 21.9k      | 270.0u   | 1x9x9x24                | 1x4x4x24     | Padding:valid stride:2x2 filter:2x2 activation:none |\n",
      "| 5     | reshape         | 0      | 0      | 2.3k       | 30.0u    | 1x4x4x24,2              | 1x384        | Type=none                                           |\n",
      "| 6     | fully_connected | 2.3k   | 1.1k   | 5.1k       | 60.0u    | 1x384,3x384,3           | 1x3          | Activation:none                                     |\n",
      "| 7     | softmax         | 15.0   | 0      | 2.9k       | 60.0u    | 1x3                     | 1x3          | Type=softmaxoptions                                 |\n",
      "+-------+-----------------+--------+--------+------------+----------+-------------------------+--------------+-----------------------------------------------------+\n"
     ]
    }
   ],
   "source": [
    "# Determine the currently connected device\n",
    "# Just print an error and return if no device is connected\n",
    "try:\n",
    "    platform_name = query_platform()\n",
    "except Exception as e:\n",
    "    print(f'Failed to determine connected device, err:\\n{e}')\n",
    "    sys.exit(0)\n",
    "\n",
    "print(f'Conencted device platform: {platform_name}')\n",
    "\n",
    "accelerator = None\n",
    "if platform_name in ('brd2601a', 'brd4186b'):\n",
    "    # Use the MVP hardware accelerator if the platform supports it\n",
    "    accelerator = 'MVP'\n",
    "\n",
    "# Profile the tflite model on the physical device\n",
    "profiling_results = profile_model(\n",
    "    tflite_path,\n",
    "    accelerator=accelerator,\n",
    "    use_device=True\n",
    ")\n",
    "\n",
    "# Print the profiling results\n",
    "print(profiling_results)"
   ]
  },
  {
   "cell_type": "markdown",
   "metadata": {},
   "source": [
    "## Example 4: Profile model before training\n",
    "\n",
    "Training a model can be very time-consuming, and it is useful to know how efficiently a \n",
    "model will execute on an embedded device before investing time and energy into training it.  \n",
    "For this reason, the MLTK [profile_model](https://siliconlabs.github.io/mltk/docs/python_api/operations/profile.html) API features a `build` argument to build a model and profile it _before_ the model is fully trained.\n",
    "\n",
    "In this example, the [image_example1](https://siliconlabs.github.io/mltk/docs/python_api/models/examples/image_example1.html) model is built\n",
    "at command-execution-time and profiled in the MVP hardware simulator.  \n",
    "Note that _only_ the [model specification](https://siliconlabs.github.io/mltk/docs/guides/model_specification.html)  script is required, \n",
    "it does _not_ need to be trained first."
   ]
  },
  {
   "cell_type": "code",
   "execution_count": 6,
   "metadata": {},
   "outputs": [
    {
     "data": {
      "application/vnd.jupyter.widget-view+json": {
       "model_id": "535ae1bb09b142dc8f3b65d6609a56a4",
       "version_major": 2,
       "version_minor": 0
      },
      "text/plain": [
       "Training:   0%|           0/3 ETA: ?s,  ?epochs/s"
      ]
     },
     "metadata": {},
     "output_type": "display_data"
    },
    {
     "name": "stdout",
     "output_type": "stream",
     "text": [
      "Epoch 1/3\n"
     ]
    },
    {
     "data": {
      "application/vnd.jupyter.widget-view+json": {
       "model_id": "f707079de6504ee1847f127a8bc9b85d",
       "version_major": 2,
       "version_minor": 0
      },
      "text/plain": [
       "0/3           ETA: ?s - "
      ]
     },
     "metadata": {},
     "output_type": "display_data"
    },
    {
     "name": "stdout",
     "output_type": "stream",
     "text": [
      "Epoch 2/3\n"
     ]
    },
    {
     "data": {
      "application/vnd.jupyter.widget-view+json": {
       "model_id": "28c0f14f92704393970e20c8c8bac525",
       "version_major": 2,
       "version_minor": 0
      },
      "text/plain": [
       "0/3           ETA: ?s - "
      ]
     },
     "metadata": {},
     "output_type": "display_data"
    },
    {
     "name": "stdout",
     "output_type": "stream",
     "text": [
      "Epoch 3/3\n"
     ]
    },
    {
     "data": {
      "application/vnd.jupyter.widget-view+json": {
       "model_id": "9ed3e782130e4a9d9c353b25d19725a0",
       "version_major": 2,
       "version_minor": 0
      },
      "text/plain": [
       "0/3           ETA: ?s - "
      ]
     },
     "metadata": {},
     "output_type": "display_data"
    },
    {
     "name": "stderr",
     "output_type": "stream",
     "text": [
      "WARNING:absl:Found untraced functions such as _jit_compiled_convolution_op, _jit_compiled_convolution_op, _jit_compiled_convolution_op while saving (showing 3 of 3). These functions will not be directly callable after loading.\n"
     ]
    },
    {
     "name": "stdout",
     "output_type": "stream",
     "text": [
      "INFO:tensorflow:Assets written to: E:\\tmpc8yu6n46\\assets\n"
     ]
    },
    {
     "name": "stderr",
     "output_type": "stream",
     "text": [
      "INFO:tensorflow:Assets written to: E:\\tmpc8yu6n46\\assets\n",
      "c:\\Users\\reed\\workspace\\silabs\\mltk\\.venv\\lib\\site-packages\\tensorflow\\lite\\python\\convert.py:766: UserWarning: Statistics for quantized inputs were expected, but not specified; continuing anyway.\n",
      "  warnings.warn(\"Statistics for quantized inputs were expected, but not \"\n"
     ]
    },
    {
     "name": "stdout",
     "output_type": "stream",
     "text": [
      "Profiling Summary\n",
      "Name: my_model\n",
      "Accelerator: MVP\n",
      "Input Shape: 1x96x96x1\n",
      "Input Data Type: float32\n",
      "Output Shape: 1x3\n",
      "Output Data Type: float32\n",
      "Flash, Model File Size (bytes): 15.4k\n",
      "RAM, Runtime Memory Size (bytes): 85.4k\n",
      "Operation Count: 2.7M\n",
      "Multiply-Accumulate Count: 1.2M\n",
      "Layer Count: 10\n",
      "Unsupported Layer Count: 0\n",
      "Accelerator Cycle Count: 1.1M\n",
      "CPU Cycle Count: 415.3k\n",
      "CPU Utilization (%): 0.0\n",
      "Clock Rate (hz): 78.0M\n",
      "Energy (J): 219.6u\n",
      "J/Op: 82.0p\n",
      "J/MAC: 183.5p\n",
      "\n",
      "Model Layers\n",
      "+-------+-----------------+--------+--------+------------+------------+------------+-------------------------+--------------+-----------------------------------------------------+\n",
      "| Index | OpCode          | # Ops  | # MACs | Acc Cycles | CPU Cycles | Energy (J) | Input Shape             | Output Shape | Options                                             |\n",
      "+-------+-----------------+--------+--------+------------+------------+------------+-------------------------+--------------+-----------------------------------------------------+\n",
      "| 0     | quantize        | 36.9k  | 0      | 0          | 332.6k     | 66.4u      | 1x96x96x1               | 1x96x96x1    | Type=none                                           |\n",
      "| 1     | conv_2d         | 1.2M   | 497.7k | 719.0k     | 11.2k      | 52.4u      | 1x96x96x1,24x3x3x1,24   | 1x48x48x24   | Padding:same stride:2x2 activation:relu             |\n",
      "| 2     | average_pool_2d | 69.1k  | 0      | 48.4k      | 22.7k      | 5.4u       | 1x48x48x24              | 1x24x24x24   | Padding:valid stride:2x2 filter:2x2 activation:none |\n",
      "| 3     | conv_2d         | 842.2k | 418.2k | 223.8k     | 5.9k       | 45.7u      | 1x24x24x24,16x3x3x24,16 | 1x11x11x16   | Padding:valid stride:2x2 activation:relu            |\n",
      "| 4     | conv_2d         | 565.7k | 279.9k | 148.8k     | 8.0k       | 45.7u      | 1x11x11x16,24x3x3x16,24 | 1x9x9x24     | Padding:valid stride:1x1 activation:relu            |\n",
      "| 5     | average_pool_2d | 1.9k   | 0      | 1.3k       | 27.8k      | 3.7u       | 1x9x9x24                | 1x4x4x24     | Padding:valid stride:2x2 filter:2x2 activation:none |\n",
      "| 6     | reshape         | 0      | 0      | 0          | 250.4      | 0.0p       | 1x4x4x24,2              | 1x384        | Type=none                                           |\n",
      "| 7     | fully_connected | 2.3k   | 1.2k   | 1.7k       | 1.5k       | 49.2n      | 1x384,3x384,3           | 1x3          | Activation:none                                     |\n",
      "| 8     | softmax         | 15.0   | 0      | 0          | 3.8k       | 16.5n      | 1x3                     | 1x3          | Type=softmaxoptions                                 |\n",
      "| 9     | dequantize      | 6.0    | 0      | 0          | 1.4k       | 159.1n     | 1x3                     | 1x3          | Type=none                                           |\n",
      "+-------+-----------------+--------+--------+------------+------------+------------+-------------------------+--------------+-----------------------------------------------------+\n"
     ]
    }
   ],
   "source": [
    "# Build the image_example1 model then profile it using the MVP hardware accelerator simulator\n",
    "# NOTE: Since build=True, the model does NOT need to be trained first\n",
    "profiling_results = profile_model('image_example1', accelerator='MVP', build=True, return_estimates=True)\n",
    "\n",
    "# Print the profiling results\n",
    "print(profiling_results)"
   ]
  }
 ],
 "metadata": {
  "kernelspec": {
   "display_name": ".venv",
   "language": "python",
   "name": "python3"
  },
  "language_info": {
   "codemirror_mode": {
    "name": "ipython",
    "version": 3
   },
   "file_extension": ".py",
   "mimetype": "text/x-python",
   "name": "python",
   "nbconvert_exporter": "python",
   "pygments_lexer": "ipython3",
   "version": "3.10.10"
  },
  "orig_nbformat": 4,
  "vscode": {
   "interpreter": {
    "hash": "9f9279e94b2c22ff291460df5deea165f5c80188e27c8b6f435eb5edfaf340b9"
   }
  }
 },
 "nbformat": 4,
 "nbformat_minor": 2
}
