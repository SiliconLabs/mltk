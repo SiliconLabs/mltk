{
 "cells": [
  {
   "cell_type": "markdown",
   "metadata": {},
   "source": [
    "# Keyword Spotting - Pac-Man\n",
    "\n",
    "This tutorial describes how to use the MLTK to develop a \"Pac-Man\" keyword spotting demo.\n",
    "\n",
    "The basic setup for this demo is as follows:  \n",
    "![](https://github.com/SiliconLabs/mltk/raw/master/docs/img/pacman_demo_overview.png)\n",
    "\n",
    "In the demo, embedded machine learning is used to detect the keywords:\n",
    "- __Left__\n",
    "- __Right__\n",
    "- __Up__\n",
    "- __Down__\n",
    "- __Stop__\n",
    "- __Go__\n",
    "\n",
    "When a keyword is detected, its corresponding ID is sent to a webpage via Bluetooth Low-Energy. The webpage uses Javascript to process keyword ID to move the Pac-Man accordingly."
   ]
  },
  {
   "cell_type": "markdown",
   "metadata": {},
   "source": [
    "## Live Demo\n",
    "\n",
    "A live demo for this tutorial is available online:  \n",
    "[https://mltk-pacman.web.app](https://mltk-pacman.web.app)\n",
    "\n",
    "\n",
    "__NOTE:__ To use this demo, you must have a [BRD2601](https://siliconlabs.github.io/mltk/docs/other/supported_hardware.html#brd2601) development board."
   ]
  },
  {
   "cell_type": "markdown",
   "metadata": {},
   "source": [
    "## Quick Links\n",
    "\n",
    "- [GitHub Source](https://github.com/SiliconLabs/mltk/blob/master/mltk/tutorials/keyword_spotting_pacman.ipynb) - View this tutorial on Github\n",
    "- [Run on Colab](https://colab.research.google.com/github/siliconlabs/mltk/blob/master/mltk/tutorials/keyword_spotting_pacman.ipynb) - Run this tutorial on Google Colab\n",
    "- [Train in the \"Cloud\"](https://siliconlabs.github.io/mltk/mltk/tutorials/cloud_training_with_vast_ai.html) - _Vastly_ improve training times by training this model in the \"cloud\"\n",
    "- [C++ Example Application](https://siliconlabs.github.io/mltk/docs/cpp_development/examples/ble_audio_classifier.html) - View this tutorial's associated C++ example application\n",
    "- [Pac-Man Webpage Source](https://github.com/SiliconLabs/mltk/blob/master/cpp/shared/apps/ble_audio_classifier/web/pacman) - View the Pac-Man webpage's source code on Github\n",
    "- [Machine Learning Model](https://siliconlabs.github.io/mltk/docs/python_api/models/siliconlabs/keyword_spotting_pacman.html) - View this tutorial's associated machine learning model\n",
    "- [Live Demo](https://mltk-pacman.web.app) - Play Pac-Man using the keywords: Left, Right, Up, Down \n",
    "- [Presentation PDF](https://cms.tinyml.org/wp-content/uploads/talks2022/tinyML_Talks_Dan_Riedler_221025.pdf) - Presentation describing how this demo was created\n",
    "- [Presentation Video](https://www.youtube.com/watch?v=xhiFMDOyA0g) - YouTube video of the presentation given to TinyML.org for this tutorial"
   ]
  },
  {
   "cell_type": "markdown",
   "metadata": {},
   "source": [
    "## Overview\n",
    "\n",
    "### Objectives\n",
    "\n",
    "After completing this tutorial, you will have:\n",
    "1. A better understanding of how audio classification machine learning models work\n",
    "2. All of the tools needed to develop your own keyword spotting model\n",
    "3. A better understanding of how to issue commands to a webpage from an embedded MCU via Bluetooth Low Energy\n",
    "4. A working demo to play the game Pac-Man using the keywords: \"Left\", \"Right\", \"Up\", \"Down\", \"Stop\", \"Go\"\n",
    "\n",
    "### Content\n",
    "\n",
    "This tutorial is divided into the following sections:\n",
    "- [Prerequisite reading](#prerequisite-reading)\n",
    "- [Creating the machine learning model](#creating-the-machine-learning-model)\n",
    "- [Creating the firmware application](#creating-the-firmware-application)\n",
    "- [Creating the Pac-Man webpage](#creating-the-pac-man-webpage)\n",
    "- [Running the demo](#running-the-demo)\n",
    "\n",
    "### Running this tutorial from a notebook\n",
    "\n",
    "For documentation purposes, this tutorial was designed to run within a [Jupyter Notebook](https://jupyter.org). \n",
    "The notebook can either run locally on your PC _or_ on a remote server like [Google Colab](https://colab.research.google.com/notebooks/welcome.ipynb).  \n",
    "\n",
    "- Refer to the [Notebook Examples Guide](https://siliconlabs.github.io/mltk/docs/guides/notebook_examples_guide.html) for more details\n",
    "- Click here: [![Open In Colab](https://colab.research.google.com/assets/colab-badge.svg)](https://colab.research.google.com/github/siliconlabs/mltk/blob/master/mltk/tutorials/keyword_spotting_pacman.ipynb) to run this tutorial interactively in your browser\n",
    "\n",
    "__NOTE:__ Some of the following sections require this tutorial to be running locally with a supported embedded platform connected.\n",
    "\n",
    "### Running this tutorial from the command-line\n",
    "\n",
    "While this tutorial uses a [Jupyter Notebook](https://jupyter.org), \n",
    "the recommended approach is to use your favorite text editor and standard command terminal, no Jupyter Notebook required.  \n",
    "\n",
    "See the [Standard Python Package Installation](https://siliconlabs.github.io/mltk/docs/installation.html#standard-python-package) guide for more details on how to enable the `mltk` command in your local terminal.\n",
    "\n",
    "In this mode, when you encounter a `!mltk` command in this tutorial, the command should actually run in your local terminal (excluding the `!`)"
   ]
  },
  {
   "cell_type": "markdown",
   "metadata": {},
   "source": [
    "## Required Hardware\n",
    "\n",
    "To play this tutorial's game using machine learning + keyword spotting, the [BRD2601](https://siliconlabs.github.io/mltk/docs/other/supported_hardware.html#brd2601) development board is required."
   ]
  },
  {
   "cell_type": "markdown",
   "metadata": {},
   "source": [
    "## Install MLTK Python Package\n",
    "\n",
    "Before using the MLTK, it must first be installed.  \n",
    "See the [Installation Guide](https://siliconlabs.github.io/mltk/docs/installation.html) for more details."
   ]
  },
  {
   "cell_type": "code",
   "execution_count": null,
   "metadata": {},
   "outputs": [],
   "source": [
    "!pip install --upgrade silabs-mltk"
   ]
  },
  {
   "cell_type": "markdown",
   "metadata": {},
   "source": [
    "All MLTK modeling operations are accessible via the `mltk` command.  \n",
    "Run the command `mltk --help` to ensure it is working.  \n",
    "__NOTE:__ The exclamation point `!` tells the Notebook to run a shell command, it is not required in a [standard terminal](https://siliconlabs.github.io/mltk/docs/installation.html#standard-python-package)"
   ]
  },
  {
   "cell_type": "code",
   "execution_count": 1,
   "metadata": {},
   "outputs": [
    {
     "name": "stdout",
     "output_type": "stream",
     "text": [
      "Usage: mltk [OPTIONS] COMMAND [ARGS]...\n",
      "\n",
      "  Silicon Labs Machine Learning Toolkit\n",
      "\n",
      "  This is a Python package with command-line utilities and scripts to aid the\n",
      "  development of machine learning models for Silicon Lab's embedded platforms.\n",
      "\n",
      "Options:\n",
      "  --version         Display the version of this mltk package and exit\n",
      "  --gpu / --no-gpu  Disable usage of the GPU. \n",
      "                    This does the same as defining the environment variable: CUDA_VISIBLE_DEVICES=-1\n",
      "                    Example:\n",
      "                    mltk --no-gpu train image_example1\n",
      "  --help            Show this message and exit.\n",
      "\n",
      "Commands:\n",
      "  build               MLTK build commands\n",
      "  classify_audio      Classify keywords/events detected in a microphone's...\n",
      "  classify_image      Classify images detected by a camera connected to...\n",
      "  commander           Silab's Commander Utility\n",
      "  compile             Compile a model for the specified accelerator\n",
      "  custom              Custom Model Operations\n",
      "  evaluate            Evaluate a trained ML model\n",
      "  fingerprint_reader  View/save fingerprints captured by the fingerprint...\n",
      "  profile             Profile a model\n",
      "  quantize            Quantize a model into a .tflite file\n",
      "  summarize           Generate a summary of a model\n",
      "  train               Train an ML model\n",
      "  update_params       Update the parameters of a previously trained model\n",
      "  utest               Run the all unit tests\n",
      "  view                View an interactive graph of the given model in a...\n",
      "  view_audio          View the spectrograms generated by the...\n"
     ]
    }
   ],
   "source": [
    "!mltk --help"
   ]
  },
  {
   "cell_type": "markdown",
   "metadata": {},
   "source": [
    "## Prerequisite Reading\n",
    "\n",
    "Before continuing with this tutorial, it is recommended to review the following documentation:\n",
    "- [Keyword Spotting Overview](https://siliconlabs.github.io/mltk/docs/audio/keyword_spotting_overview.html) - Provides overview of how embedded keyword spotting works\n",
    "- [Keyword Spotting Tutorial](https://siliconlabs.github.io/mltk/mltk/tutorials/keyword_spotting_on_off.html) - Provides an in-depth tutorial on how to create a keyword spotting model"
   ]
  },
  {
   "cell_type": "markdown",
   "metadata": {},
   "source": [
    "## Creating the Machine Learning Model\n",
    "\n",
    "The pre-defined [Model Specification](https://siliconlabs.github.io/mltk/docs/guides/model_specification.html) used by the tutorial may be found on [Github](https://github.com/SiliconLabs/mltk/tree/master/mltk/models/siliconlabs/keyword_spotting_pacman.py).\n",
    "\n",
    "This model is a standard audio classification model designed to detect the classes:  \n",
    "- Left\n",
    "- Right\n",
    "- Up\n",
    "- Down\n",
    "- Stop\n",
    "- Go\n",
    "- _silence_\n",
    "\n",
    "Additionally, this model augments the training samples by adding audio recorded while playing the Pac-Man game. In this way, the model can be more robust to the background noise generated while playing the game.\n",
    "\n",
    "Refer to the comments in the [keyword_spotting_pacman.py](https://github.com/SiliconLabs/mltk/tree/master/mltk/models/siliconlabs/keyword_spotting_pacman.py) for more details.\n",
    "\n",
    "__NOTE:__ A new, more robust model is available: [keyword_spotting_pacman_v2](https://siliconlabs.github.io/mltk/docs/python_api/models/siliconlabs/keyword_spotting_pacman_v2.html)"
   ]
  },
  {
   "cell_type": "markdown",
   "metadata": {},
   "source": [
    "### Model Parameter Tradeoffs\n",
    "\n",
    "We have two main requirements when choosing the model parameters:\n",
    "- We want the spectrogram resolution and convolutional filters to be as high as possible so that the model can make accurate predictions\n",
    "- We want the model's computational complexity to be as small as possible so that inference latency is small and keywords are quickly detected while playing the game\n",
    "\n",
    "Note that the larger the spectrogram resolution, the larger the model's input size and thus the larger the model's computational complexity. Likewise, more convolution filters also increases the model's computational complexity. As such, we need to find a middle ground for these parameters.\n",
    "\n",
    "The MLTK offers two tools that can help when choosing these parameters:  \n",
    "- [Model Profiler](https://siliconlabs.github.io/mltk/docs/guides/model_profiler.html) - This allows for profiling the model on the embedded device and determining the inference latency __before__ fully training the model\n",
    "- [Audio Visualizer Utility](https://siliconlabs.github.io/mltk/docs/audio/audio_feature_generator.html#audio-visualizer-utility) - This allows for visualizing the generated spectrograms in real-time"
   ]
  },
  {
   "cell_type": "markdown",
   "metadata": {},
   "source": [
    "### Audio Feature Generator Settings\n",
    "\n",
    "This model uses the following [Audio Feature Generator](https://siliconlabs.github.io/mltk/docs/audio/audio_feature_generator.html) settings:"
   ]
  },
  {
   "cell_type": "code",
   "execution_count": 2,
   "metadata": {},
   "outputs": [],
   "source": [
    "from mltk.core.preprocess.audio.audio_feature_generator import AudioFeatureGeneratorSettings\n",
    "\n",
    "frontend_settings = AudioFeatureGeneratorSettings()\n",
    "\n",
    "# The sample rate, sample length, window size and window step\n",
    "# control the width of the generated spectrogram\n",
    "frontend_settings.sample_rate_hz = 16000  # This can also be 16k for slightly better performance at the cost of more RAM\n",
    "frontend_settings.sample_length_ms = 700 # 0.7s sample size\n",
    "frontend_settings.window_size_ms = 20\n",
    "frontend_settings.window_step_ms = 10\n",
    "frontend_settings.filterbank_n_channels = 70 # The number of frequency bins. This controls the height of the spectrogram\n",
    "frontend_settings.filterbank_upper_band_limit = frontend_settings.sample_rate_hz // 2 # 8kHz\n",
    "frontend_settings.filterbank_lower_band_limit = 150 # The dev board mic seems to have a lot of noise at lower frequencies\n",
    "frontend_settings.noise_reduction_enable = False # Disable the noise reduction block\n",
    "frontend_settings.pcan_enable = False # Disable the PCAN block\n",
    "\n",
    "\n",
    "frontend_settings.dc_notch_filter_enable = True # Enable the DC notch filter\n",
    "frontend_settings.dc_notch_filter_coefficient = 0.95\n",
    "\n",
    "frontend_settings.quantize_dynamic_scale_enable = True # Enable dynamic quantization\n",
    "frontend_settings.quantize_dynamic_scale_range_db = 40.0"
   ]
  },
  {
   "cell_type": "markdown",
   "metadata": {},
   "source": [
    "\n",
    "This uses a 16kHz sample rate which was found to give better performance at the expense of more RAM.\n",
    "\n",
    "```python\n",
    "frontend_settings.sample_rate_hz = 16000\n",
    "```\n",
    "\n",
    "To help reduce the model computational complexity, only a 700ms sample length is used (typically the length is 1s). \n",
    "\n",
    "```python\n",
    "frontend_settings.sample_length_ms = 700\n",
    "```\n",
    "\n",
    "The idea here is that it only takes ~700ms to say any of the keywords (i.e. the audio buffer needs to be large enough to hold the entire keyword but no larger). \n",
    "\n",
    "This model uses a window size of 20ms and a step of 10ms.\n",
    "\n",
    "```python\n",
    "frontend_settings.window_size_ms = 20\n",
    "frontend_settings.window_step_ms = 10\n",
    "```\n",
    "\n",
    "These values were found experimentally using the [Audio Visualizer Utility](https://siliconlabs.github.io/mltk/docs/audio/audio_feature_generator.html#audio-visualizer-utility).\n",
    "\n",
    "70 frequency bins are used to generate the spectrogram:\n",
    "\n",
    "```python\n",
    "frontend_settings.filterbank_n_channels = 70\n",
    "```\n",
    "\n",
    "Increasing this value improves the resolution of spectrogram at the cost of model computational complexity (i.e. inference latency).\n",
    "\n",
    "The noise reduction and PCAN blocks were disabled to help reduce spectrogram generation latency:\n",
    "```python\n",
    "frontend_settings.noise_reduction_enable = False\n",
    "frontend_settings.pcan_enable = False\n",
    "```\n",
    "\n",
    "The DC notch filter was enabled to help remove the DC component from the development board's microphone:\n",
    "```python\n",
    "frontend_settings.dc_notch_filter_enable = True # Enable the DC notch filter\n",
    "frontend_settings.dc_notch_filter_coefficient = 0.95\n",
    "```\n",
    "\n",
    "Dynamic quantization was enabled to convert the generated spectrogram from uint16 to int8\n",
    "\n",
    "```python\n",
    "frontend_settings.quantize_dynamic_scale_enable = True # Enable dynamic quantization\n",
    "frontend_settings.quantize_dynamic_scale_range_db = 40.0\n",
    "```"
   ]
  },
  {
   "cell_type": "markdown",
   "metadata": {},
   "source": [
    "### Module Architecture\n",
    "\n",
    "A generic Convolutional Neural Network (CNN) is used as the model architecture:"
   ]
  },
  {
   "cell_type": "code",
   "execution_count": null,
   "metadata": {},
   "outputs": [],
   "source": [
    "def my_model_builder(model: MyModel):\n",
    "    weight_decay = 1e-4\n",
    "    regularizer = regularizers.l2(weight_decay)\n",
    "    input_shape = model.input_shape\n",
    "    filters = 7 \n",
    " \n",
    "    keras_model = Sequential(name=model.name, layers = [\n",
    "        Conv2D(filters, (3,3), padding='same', input_shape=input_shape),\n",
    "        BatchNormalization(),\n",
    "        Activation('relu'),\n",
    "        MaxPooling2D(2,2),\n",
    "\n",
    "        Conv2D(2*filters,(3,3), padding='same'), \n",
    "        BatchNormalization(),\n",
    "        Activation('relu'),\n",
    "        MaxPooling2D(2,2),\n",
    "\n",
    "        Conv2D(4*filters, (3,3), padding='same'),\n",
    "        BatchNormalization(),\n",
    "        Activation('relu'),\n",
    "        MaxPooling2D(2,2),\n",
    "    \n",
    "        Conv2D(4*filters, (3,3), padding='same'),\n",
    "        BatchNormalization(),\n",
    "        Activation('relu'),\n",
    "        MaxPooling2D(2,2),\n",
    "\n",
    "        Conv2D(4*filters, (3,3), padding='same'),\n",
    "        BatchNormalization(),\n",
    "        Activation('relu'),\n",
    "        MaxPooling2D(2,2),\n",
    "\n",
    "        #Dropout(0.5),\n",
    "\n",
    "        Flatten(),\n",
    "        Dense(model.n_classes, activation='softmax')\n",
    "    ])\n",
    "\n",
    "    keras_model.compile(\n",
    "        loss=model.loss, \n",
    "        optimizer=model.optimizer, \n",
    "        metrics=model.metrics\n",
    "    )\n",
    "\n",
    "    return keras_model\n",
    "\n",
    "my_model.build_model_function = my_model_builder"
   ]
  },
  {
   "cell_type": "markdown",
   "metadata": {},
   "source": [
    "The main parameter to modify is:\n",
    "\n",
    "```python\n",
    "filters = 7\n",
    "```\n",
    "\n",
    "which controls the number of filters to use in each Conv2D layer.\n",
    "The larger this value is, the more trainable parameters the model will have which should allow for it to have better accuracy. However, increasing this value also increases the model's computational complexity which increases the model inference latency."
   ]
  },
  {
   "cell_type": "markdown",
   "metadata": {},
   "source": [
    "### Audio Data Generator\n",
    "\n",
    "This model has an additional requirement that the keywords need to be said while the Pac-Man video game noises are generated in the background. As such, the model is trained by taking each keyword sample and adding a snippet of background noise to the sample. In this way, the model learns to pick out the keywords from the Pac-Man video game's noises.\n",
    "\n",
    "The Pac-Man game audio was acquired by recording during game play (using the arrows on the keyboard). Recording was done using the MLTK command:\n",
    "\n",
    "```\n",
    "mltk classify_audio keyword_spotting_pacman --dump-audio --device\n",
    "```\n",
    "\n",
    "This command uses the microphone on the development board to record the video game's generated audio. The recorded audio is saved to the local PC as a `.wav` file.\n",
    "\n",
    "After recording, a custom callback was added to the [model specification](https://github.com/SiliconLabs/mltk/tree/master/mltk/models/siliconlabs/keyword_spotting_pacman.py) file:"
   ]
  },
  {
   "cell_type": "code",
   "execution_count": null,
   "metadata": {},
   "outputs": [],
   "source": [
    "def get_batches_samples(\n",
    "    batch_index:int, \n",
    "    filenames:List[str], \n",
    "    classes:List[int], \n",
    "    params:ParallelProcessParams\n",
    ") -> Tuple[int, Tuple[np.ndarray, np.ndarray]]:\n",
    "    \"\"\"This slightly modified from the standard function that comes with the MLTK:\n",
    "    https://github.com/siliconlabs/mltk/blob/master/mltk/core/preprocess/audio/parallel_generator/iterator.py#L241\n",
    "    \n",
    "    80% of the time it adds a snippet of the Pac-Man background noise to the sample.\n",
    "     \n",
    "    \"\"\"\n",
    "\n",
    "    if 'game' not in params.audio_data_generator.bg_noises:\n",
    "        PACMAN_BACKGROUND_NOISE, orignal_sr = librosa.load(PACMAN_BACKGROUND_NOISE_PATH, sr=frontend_settings.sample_rate_hz, mono=True, dtype='float32')\n",
    "        params.audio_data_generator.bg_noises['game'] = PACMAN_BACKGROUND_NOISE\n",
    "   \n",
    "\n",
    "    batch_shape = (len(filenames),) + params.sample_shape\n",
    "    batch_x = np.zeros(batch_shape, dtype=params.dtype)\n",
    "\n",
    "    for i, (filename, class_id) in enumerate(zip(filenames, classes)):\n",
    "        if filename:\n",
    "            filepath = os.path.join(params.directory, filename)\n",
    "            x, orignal_sr = librosa.load(filepath, sr=None, mono=True, dtype='float32')\n",
    "            \n",
    "        else:\n",
    "            orignal_sr = 16000\n",
    "            x = np.zeros((orignal_sr,), dtype='float32')\n",
    "\n",
    "        transform_params = params.audio_data_generator.get_random_transform()\n",
    "        add_game_background_noise = random.uniform(0, 1) < .8  # Add the game background noise 80% of the time\n",
    "        if add_game_background_noise: \n",
    "            transform_params['noise_color'] = None\n",
    "            transform_params['bg_noise'] = 'game'\n",
    "\n",
    "        # Apply any audio augmentations\n",
    "        # NOTE: If transform_params =  default_transform\n",
    "        #       Then the audio sample is simply cropped/padded to fit the expected sample length\n",
    "        x = params.audio_data_generator.apply_transform(x, orignal_sr, transform_params)\n",
    "\n",
    "        # After point through the frontend, \n",
    "        # x = [height, width] dtype=self.dtype\n",
    "        x = params.audio_data_generator.apply_frontend(x, dtype=params.dtype)\n",
    "\n",
    "        # Convert the sample's shape from [height, width]\n",
    "        # to [height, width, 1]\n",
    "        batch_x[i] = np.expand_dims(x, axis=-1)\n",
    "\n",
    "\n",
    "    batch_y = np.zeros((len(batch_x), len(params.class_indices)), dtype=params.dtype)\n",
    "    for i, class_id in enumerate(classes):\n",
    "        batch_y[i, class_id] = 1.\n",
    "    \n",
    "    return batch_index, (batch_x, batch_y)"
   ]
  },
  {
   "cell_type": "markdown",
   "metadata": {},
   "source": [
    "Which takes random snippets of the recorded audio and applies it to 80% of the training samples."
   ]
  },
  {
   "cell_type": "markdown",
   "metadata": {},
   "source": [
    "### Profiling the model\n",
    "\n",
    "Before training a machine learning model, it is important to know how efficiently the model will execute on the embedded target. This is especially true when using keyword spotting to control a Pac-Man (a keyword that takes > 1s to detect will not be useful when trying to avoid the ghosts).\n",
    "\n",
    "If the model inference takes too long to execute on the embedded target, then the model parameters need to be decreased to reduce the model's computational complexity. The desired model parameters should be known before the model is fully trained.\n",
    "\n",
    "To help determine the best model parameters, the MLTK features a [Model Profiler](https://siliconlabs.github.io/mltk/docs/guides/model_profiler.html) command:"
   ]
  },
  {
   "cell_type": "code",
   "execution_count": 4,
   "metadata": {},
   "outputs": [
    {
     "name": "stdout",
     "output_type": "stream",
     "text": [
      "WARNING:absl:Found untraced functions such as _jit_compiled_convolution_op, _jit_compiled_convolution_op, _jit_compiled_convolution_op, _jit_compiled_convolution_op, _jit_compiled_convolution_op while saving (showing 5 of 5). These functions will not be directly callable after loading.\n",
      "C:\\Users\\reed\\workspace\\silabs\\mltk\\.venv\\lib\\site-packages\\tensorflow\\lite\\python\\convert.py:766: UserWarning: Statistics for quantized inputs were expected, but not specified; continuing anyway.\n",
      "  warnings.warn(\"Statistics for quantized inputs were expected, but not \"\n",
      "Programming ML model to device ...\n",
      "Profiling ML model on device ...\n",
      "\n",
      "Profiling Summary\n",
      "Name: keyword_spotting_pacman\n",
      "Accelerator: MVP\n",
      "Input Shape: 1x69x70x1\n",
      "Input Data Type: int8\n",
      "Output Shape: 1x7\n",
      "Output Data Type: int8\n",
      "Flash, Model File Size (bytes): 32.8k\n",
      "RAM, Runtime Memory Size (bytes): 51.8k\n",
      "Operation Count: 6.1M\n",
      "Multiply-Accumulate Count: 2.9M\n",
      "Layer Count: 13\n",
      "Unsupported Layer Count: 0\n",
      "Accelerator Cycle Count: 3.0M\n",
      "CPU Cycle Count: 265.0k\n",
      "CPU Utilization (%): 8.6\n",
      "Clock Rate (hz): 78.0M\n",
      "Time (s): 39.3m\n",
      "Ops/s: 155.4M\n",
      "MACs/s: 74.3M\n",
      "Inference/s: 25.4\n",
      "\n",
      "Model Layers\n",
      "+-------+-----------------+--------+--------+------------+------------+----------+-------------------------+--------------+-----------------------------------------------------+\n",
      "| Index | OpCode          | # Ops  | # MACs | Acc Cycles | CPU Cycles | Time (s) | Input Shape             | Output Shape | Options                                             |\n",
      "+-------+-----------------+--------+--------+------------+------------+----------+-------------------------+--------------+-----------------------------------------------------+\n",
      "| 0     | conv_2d         | 710.0k | 304.3k | 482.4k     | 30.6k      | 6.3m     | 1x69x70x1,7x3x3x1,7     | 1x69x70x7    | Padding:same stride:1x1 activation:relu             |\n",
      "| 1     | max_pool_2d     | 33.3k  | 0      | 50.1k      | 14.0k      | 720.0u   | 1x69x70x7               | 1x34x35x7    | Padding:valid stride:2x2 filter:2x2 activation:none |\n",
      "| 2     | conv_2d         | 2.1M   | 1.0M   | 1.3M       | 29.6k      | 16.8m    | 1x34x35x7,14x3x3x7,14   | 1x34x35x14   | Padding:same stride:1x1 activation:relu             |\n",
      "| 3     | max_pool_2d     | 16.2k  | 0      | 12.2k      | 13.9k      | 240.0u   | 1x34x35x14              | 1x17x17x14   | Padding:valid stride:2x2 filter:2x2 activation:none |\n",
      "| 4     | conv_2d         | 2.1M   | 1.0M   | 738.3k     | 30.2k      | 9.4m     | 1x17x17x14,28x3x3x14,28 | 1x17x17x28   | Padding:same stride:1x1 activation:relu             |\n",
      "| 5     | max_pool_2d     | 7.2k   | 0      | 5.6k       | 26.4k      | 330.0u   | 1x17x17x28              | 1x8x8x28     | Padding:valid stride:2x2 filter:2x2 activation:none |\n",
      "| 6     | conv_2d         | 908.5k | 451.6k | 293.2k     | 30.3k      | 3.8m     | 1x8x8x28,28x3x3x28,28   | 1x8x8x28     | Padding:same stride:1x1 activation:relu             |\n",
      "| 7     | max_pool_2d     | 1.8k   | 0      | 1.5k       | 26.3k      | 330.0u   | 1x8x8x28                | 1x4x4x28     | Padding:valid stride:2x2 filter:2x2 activation:none |\n",
      "| 8     | conv_2d         | 227.1k | 112.9k | 62.1k      | 27.9k      | 900.0u   | 1x4x4x28,28x3x3x28,28   | 1x4x4x28     | Padding:same stride:1x1 activation:relu             |\n",
      "| 9     | max_pool_2d     | 448.0  | 0      | 532.0      | 26.3k      | 330.0u   | 1x4x4x28                | 1x2x2x28     | Padding:valid stride:2x2 filter:2x2 activation:none |\n",
      "| 10    | reshape         | 0      | 0      | 0          | 1.0k       | 0        | 1x2x2x28,2              | 1x112        | Type=none                                           |\n",
      "| 11    | fully_connected | 1.6k   | 784.0  | 1.2k       | 2.2k       | 60.0u    | 1x112,7x112,7           | 1x7          | Activation:none                                     |\n",
      "| 12    | softmax         | 35.0   | 0      | 0          | 6.1k       | 60.0u    | 1x7                     | 1x7          | Type=softmaxoptions                                 |\n",
      "+-------+-----------------+--------+--------+------------+------------+----------+-------------------------+--------------+-----------------------------------------------------+\n",
      "Generating profiling report at C:/Users/reed/.mltk/models/keyword_spotting_pacman-test/profiling\n",
      "Profiling time: 55.241210 seconds\n"
     ]
    }
   ],
   "source": [
    "!mltk profile keyword_spotting_pacman --device --build --accelerator MVP"
   ]
  },
  {
   "cell_type": "markdown",
   "metadata": {},
   "source": [
    "This command builds the model then profiles it on the development board using the [MVP](https://docs.silabs.com/gecko-platform/latest/machine-learning/tensorflow/mvp-accelerator) hardware accelerator."
   ]
  },
  {
   "cell_type": "markdown",
   "metadata": {},
   "source": [
    "### Training the model\n",
    "\n",
    "Once the [model specification](https://github.com/SiliconLabs/mltk/tree/master/mltk/models/siliconlabs/keyword_spotting_pacman.py) is ready, it can be [trained](https://siliconlabs.github.io/mltk/docs/guides/model_training.html) with the command:"
   ]
  },
  {
   "cell_type": "code",
   "execution_count": null,
   "metadata": {},
   "outputs": [],
   "source": [
    "!mltk train keyword_spotting_pacman"
   ]
  },
  {
   "cell_type": "markdown",
   "metadata": {},
   "source": [
    "### Train in cloud\n",
    "\n",
    "Alternatively, you can _vastly_ improve the model training time by training this model in the \"cloud\".  \n",
    "See the tutorial: [Cloud Training with vast.ai](https://siliconlabs.github.io/mltk/mltk/tutorials/cloud_training_with_vast_ai.html) for more details."
   ]
  },
  {
   "cell_type": "markdown",
   "metadata": {},
   "source": [
    "After training completes, a [model archive](https://github.com/SiliconLabs/mltk/tree/master/mltk/models/siliconlabs/keyword_spotting_pacman.mltk.zip) file is generated containing the quantized `.tflite` model file. This is the file that is built into the firmware application."
   ]
  },
  {
   "cell_type": "markdown",
   "metadata": {},
   "source": [
    "## Creating the Firmware Application\n",
    "\n",
    "The [BLE Audio Classifier](https://siliconlabs.github.io/mltk/docs/cpp_development/examples/ble_audio_classifier.html) C++ example application may be used with the train model.\n",
    "\n",
    "The application uses the [Audio Feature Generator](https://siliconlabs.github.io/mltk/docs/audio/audio_feature_generator.html#gecko-sdk-component) library to generate spectrograms from the streaming microphone audio.\n",
    "The spectrograms are then passed to the [Tensorflow-Lite Micro](https://github.com/tensorflow/tflite-micro) inference engine which uses the trained model from above to make predictions on if a keyword is found in the spectrogram.\n",
    "If a keyword is detected, a connected BLE client is sent a notification containing the detected class ID of the keyword and prediction probability."
   ]
  },
  {
   "cell_type": "markdown",
   "metadata": {},
   "source": [
    "## Creating the Pac-Man Webpage\n",
    "\n",
    "A [Pac-Man Webpage](https://github.com/SiliconLabs/mltk/blob/master/cpp/shared/apps/ble_audio_classifier/web/pacman) is available that allows for playing the game \"Pac-Man\" using\n",
    "the keywords detected by the firmware application described above.\n",
    "\n",
    "This webpage was adapted from a game created by Lucio Panpinto, view original source code on [GitHub](https://github.com/luciopanepinto/pacman).\n",
    "\n",
    "The webpage was modified to use the [p5.ble.js](https://itpnyu.github.io/p5ble-website/) library for communicating with the firmware application via Bluetooth Low Energy.\n"
   ]
  },
  {
   "cell_type": "markdown",
   "metadata": {},
   "source": [
    "## Running the Demo\n",
    "\n",
    "With the following components complete:  \n",
    "- Keyword spotting machine learning model\n",
    "- Firmware application with Audio Feature Generator, Tensorflow-Lite Micro, and Bluetooth libraries\n",
    "- Pac-Man webpage with Bluetooth\n",
    "\n",
    "We can now run the demo.\n",
    "\n",
    "A live demo may be found at: [https://mltk-pacman.web.app](https://mltk-pacman.web.app).\n",
    "\n",
    "Alternatively, you can build the firmware application from source and run the webpage locally:"
   ]
  },
  {
   "cell_type": "markdown",
   "metadata": {},
   "source": [
    "### Build firmware application from source\n",
    "\n",
    "The MLTK supports building [C++ Applications](https://siliconlabs.github.io/mltk/docs/cpp_development/index.html).\n",
    "\n",
    "It also features a [ble_audio_classifier](https://siliconlabs.github.io/mltk/docs/cpp_development/examples/ble_audio_classifier.html) C++ application\n",
    "which can be built using:  \n",
    "- [Visual Studio Code](https://siliconlabs.github.io/mltk/docs/cpp_development/vscode.html) \n",
    "- [Simplicity Studio](https://siliconlabs.github.io/mltk/docs/cpp_development/simplicity_studio.html)\n",
    "- [Command Line](https://siliconlabs.github.io/mltk/docs/cpp_development/command_line.html)\n",
    "\n",
    "Refer to the [ble_audio_classifier](https://siliconlabs.github.io/mltk/docs/cpp_development/examples/ble_audio_classifier.html) application's documentation\n",
    "for how include your model into the built application."
   ]
  },
  {
   "cell_type": "markdown",
   "metadata": {},
   "source": [
    "### Run webpage locally\n",
    "\n",
    "The demo's webpage uses \"vanilla\" javascript+css+html. No special build systems are required.\n",
    "\n",
    "To run the webpage locally, simply open [index.html](https://github.com/SiliconLabs/mltk/blob/master/cpp/shared/apps/ble_audio_classifier/web/pacman/index.html) in your web browser (NOTE: double-click the __locally cloned__ `index.html` on your PC, not the one on Github).\n",
    "\n",
    "When the webpage starts, follow the instructions but do _not_ program the `.s37`. The locally built firmware application should have already been programmed as described in the the previous section."
   ]
  }
 ],
 "metadata": {
  "kernelspec": {
   "display_name": "Python 3.9.7 ('.venv': venv)",
   "language": "python",
   "name": "python3"
  },
  "language_info": {
   "codemirror_mode": {
    "name": "ipython",
    "version": 3
   },
   "file_extension": ".py",
   "mimetype": "text/x-python",
   "name": "python",
   "nbconvert_exporter": "python",
   "pygments_lexer": "ipython3",
   "version": "3.9.7"
  },
  "orig_nbformat": 4,
  "vscode": {
   "interpreter": {
    "hash": "600e22ae316f8c315f552eaf99bb679bc9438a443c93affde9ac001991b79c8f"
   }
  }
 },
 "nbformat": 4,
 "nbformat_minor": 2
}
