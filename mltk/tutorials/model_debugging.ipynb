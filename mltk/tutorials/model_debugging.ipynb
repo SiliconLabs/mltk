{
 "cells": [
  {
   "cell_type": "markdown",
   "metadata": {},
   "source": [
    "# Model Debugging\n",
    "\n",
    "This tutorial demonstrates how to debug a [model specification](https://siliconlabs.github.io/mltk/docs/guides/model_specification.html) Python script during model [training](https://siliconlabs.github.io/mltk/docs/guides/model_training.html). This allows for single-step debugging while the model is being actively trained."
   ]
  },
  {
   "cell_type": "markdown",
   "metadata": {},
   "source": [
    "## Overview\n",
    "\n",
    "An MLTK machine learning model is defined in a [model specification](https://siliconlabs.github.io/mltk/docs/guides/model_specification.html) script which is a standard Python script.\n",
    "As such, any tool used to debug a Python script may be used to debug the model script.\n",
    "\n",
    "In this tutorial, we will use [Visual Studio Code](https://code.visualstudio.com/) with the default [Python Extension](https://marketplace.visualstudio.com/items?itemName=ms-python.python).\n",
    "With this, we will be able to single-step debug the machine learning model script as it is actively being trained."
   ]
  },
  {
   "cell_type": "markdown",
   "metadata": {},
   "source": [
    "## Setup Environment\n",
    "\n",
    "### 1) Install the MLTK Python Package\n",
    "\n",
    "First, [install](https://siliconlabs.github.io/mltk/docs/installation.html) the MLTK Python package. \n",
    "It is recommended to create a [virtual environment](https://docs.python.org/3/tutorial/venv.html) for the installation.\n",
    "\n",
    "\n",
    "### 2) Install VS Code and the Python Extension\n",
    "\n",
    "Next, install [Visual Studio Code](https://code.visualstudio.com/) and the [Python Extension](https://marketplace.visualstudio.com/items?itemName=ms-python.python).\n",
    "\n",
    "Be sure to select the \"Python Interpreter\" that matches the Python used for step 1)  \n",
    "i.e. if you used a virtual environment in step 1, then ensure you select that interpreter in VS Code.\n",
    "\n",
    "![](https://raw.githubusercontent.com/microsoft/vscode-python/main/images/InterpreterSelectionZoom.gif)"
   ]
  },
  {
   "cell_type": "markdown",
   "metadata": {},
   "source": [
    "## Debug model: basic_example\n",
    "\n",
    "For this tutorial, we'll debug the [basic_example](https://github.com/SiliconLabs/mltk/blob/master/mltk/models/examples/basic_example.py) that comes with the MLTK.\n",
    "Download the [basic_example](https://raw.githubusercontent.com/SiliconLabs/mltk/master/mltk/models/examples/basic_example.py) Python script to your local PC \n",
    "and open it in [Visual Studio Code](https://code.visualstudio.com/).\n",
    "\n",
    "Next, using VSCode add some breakpoints to the `basic_example.py` file.\n",
    "After adding the breakpoints, on the top-right, select the `Debug Python File` button which will launch the Python debugger.\n",
    "\n",
    "Once the debugger is launched, it should stop at your first breakpoint. Using VS Code, you should be able to view the callstack as well as the contents of the various variables.\n",
    "Using the controls on the top-right, you can \"step over\" or \"continue\" debugging.\n",
    "\n",
    "![](https://github.com/SiliconLabs/mltk/raw/master/docs/img/model_debug_basic_example.gif)\n",
    "\n",
    "\n",
    "Refer to [Python debugging in VS Code](https://code.visualstudio.com/docs/python/debugging) for more details."
   ]
  },
  {
   "cell_type": "markdown",
   "metadata": {},
   "source": [
    "## How does debugging work?\n",
    "\n",
    "Recall that a [model specification](https://siliconlabs.github.io/mltk/docs/guides/model_specification.html) script is a standard Python script. \n",
    "So it executes just like any other Python script.\n",
    "\n",
    "As such, if we add something like the following to the end of the model script:\n",
    "\n",
    "```python\n",
    "if __name__ == '__main__':\n",
    "    mltk_core.train_model(my_model, clean=True, test=True)\n",
    "```\n",
    "\n",
    "then when the model script is invoked, e.g.:   \n",
    "\n",
    "```shell\n",
    "python basic_example.py\n",
    "```\n",
    "\n",
    "the script will execute the `IF` statement: `if __name__ == '__main__':`\n",
    "\n",
    "Inside this IF block, we can add any Python code we like, including calling the [train_model](https://siliconlabs.github.io/mltk/docs/python_api/operations/train.html) API.\n",
    "\n",
    "\n",
    "__NOTE:__ If we invoke our model from the [train](https://siliconlabs.github.io/mltk/docs/guides/model_training.html) command, e.g.:  \n",
    "\n",
    "```shell\n",
    "mltk train basic_example.py\n",
    "```\n",
    "\n",
    "then the `IF` statement: `if __name__ == '__main__':` will _not_ execute as the IF statement is not true in this case."
   ]
  }
 ],
 "metadata": {
  "kernelspec": {
   "display_name": "Python 3.9.7 ('.venv': venv)",
   "language": "python",
   "name": "python3"
  },
  "language_info": {
   "name": "python",
   "version": "3.9.7"
  },
  "orig_nbformat": 4,
  "vscode": {
   "interpreter": {
    "hash": "600e22ae316f8c315f552eaf99bb679bc9438a443c93affde9ac001991b79c8f"
   }
  }
 },
 "nbformat": 4,
 "nbformat_minor": 2
}
