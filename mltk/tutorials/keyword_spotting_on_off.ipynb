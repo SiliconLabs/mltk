{
 "cells": [
  {
   "cell_type": "markdown",
   "metadata": {},
   "source": [
    "# Keyword Spotting - On/Off\n",
    "\n",
    "This tutorial describes how to use the MLTK to develop a machine learning model to detect the keywords:\n",
    "\n",
    "- __On__\n",
    "- __Off__"
   ]
  },
  {
   "cell_type": "markdown",
   "metadata": {},
   "source": [
    "## Quick Links\n",
    "\n",
    "- [GitHub Source](https://github.com/SiliconLabs/mltk/blob/master/mltk/tutorials/keyword_spotting_on_off.ipynb) - View this tutorial on Github\n",
    "- [Run on Colab](https://colab.research.google.com/github/siliconlabs/mltk/blob/master/mltk/tutorials/keyword_spotting_on_off.ipynb) - Run this tutorial on Google Colab\n",
    "- [Train in the \"Cloud\"](https://siliconlabs.github.io/mltk/mltk/tutorials/cloud_training_with_vast_ai.html) - _Vastly_ improve training times by training this model in the \"cloud\"\n",
    "- [C++ Example Application](https://siliconlabs.github.io/mltk/docs/cpp_development/examples/audio_classifier.html) - View this tutorial's associated C++ example application\n",
    "- [Machine Learning Model](https://siliconlabs.github.io/mltk/docs/python_api/models/siliconlabs/keyword_spotting_on_off.html) - View this tutorial's associated machine learning model"
   ]
  },
  {
   "cell_type": "markdown",
   "metadata": {},
   "source": [
    "## Overview\n",
    "\n",
    "### Objectives\n",
    "\n",
    "After completing this tutorial, you will have:\n",
    "1. A better understanding of how keyword-spotting (KWS) machine learning models work\n",
    "2. All of the tools needed to develop your own KWS machine learning model\n",
    "3. A working demo to turn an LED on/off based on the voice commands of your choice \n",
    "\n",
    "### Content\n",
    "\n",
    "This tutorial is divided into the following sections:\n",
    "1. [Overview of machine learning and keyword-spotting](#machine-learning-and-keyword-spotting-overview)\n",
    "2. [Dataset selection and preprocessing parameters](#dataset-selection-and-preprocessing-parameters)\n",
    "3. [Creating the model specification](#model-specification)\n",
    "4. [Visualizing the audio dataset](#audio-visualization)\n",
    "5. [Note about model parameters](#model-parameters)\n",
    "6. [Summarizing the model](#model-visualization)\n",
    "7. [Visualizing the model graph](#model-visualization)\n",
    "8. [Profiling the model](#model-profiler)\n",
    "9. [Training the model](#model-training)\n",
    "10. [Evaluating the model](#model-evaluation)\n",
    "11. [Testing the model](#model-testing)\n",
    "12. [Deploying the model to an embedded device](#deploying-the-model)\n",
    "\n",
    "### Running this tutorial from a notebook\n",
    "\n",
    "For documentation purposes, this tutorial was designed to run within a [Jupyter Notebook](https://jupyter.org). \n",
    "The notebook can either run locally on your PC _or_ on a remote server like [Google Colab](https://colab.research.google.com/notebooks/welcome.ipynb).  \n",
    "\n",
    "- Refer to the [Notebook Examples Guide](https://siliconlabs.github.io/mltk/docs/guides/notebook_examples_guide.html) for more details\n",
    "- Click here: [![Open In Colab](https://colab.research.google.com/assets/colab-badge.svg)](https://colab.research.google.com/github/siliconlabs/mltk/blob/master/mltk/tutorials/keyword_spotting_on_off.ipynb) to run this tutorial interactively in your browser\n",
    "\n",
    "__NOTE:__ Some of the following sections require this tutorial to be running locally with a supported embedded platform connected.\n",
    "\n",
    "### Running this tutorial from the command-line\n",
    "\n",
    "While this tutorial uses a [Jupyter Notebook](https://jupyter.org), \n",
    "the recommended approach is to use your favorite text editor and standard command terminal, no Jupyter Notebook required.  \n",
    "\n",
    "See the [Standard Python Package Installation](https://siliconlabs.github.io/mltk/docs/installation.html#standard-python-package) guide for more details on how to enable the `mltk` command in your local terminal.\n",
    "\n",
    "In this mode, when you encounter a `!mltk` command in this tutorial, the command should actually run in your local terminal (excluding the `!`)"
   ]
  },
  {
   "cell_type": "markdown",
   "metadata": {},
   "source": [
    "## Install MLTK Python Package\n",
    "\n",
    "Before using the MLTK, it must first be installed.  \n",
    "See the [Installation Guide](https://siliconlabs.github.io/mltk/docs/installation.html) for more details."
   ]
  },
  {
   "cell_type": "code",
   "execution_count": null,
   "metadata": {},
   "outputs": [],
   "source": [
    "!pip install --upgrade silabs-mltk"
   ]
  },
  {
   "cell_type": "markdown",
   "metadata": {},
   "source": [
    "All MLTK modeling operations are accessible via the `mltk` command.  \n",
    "Run the command `mltk --help` to ensure it is working.  \n",
    "__NOTE:__ The exclamation point `!` tells the Notebook to run a shell command, it is not required in a [standard terminal](https://siliconlabs.github.io/mltk/docs/installation.html#standard-python-package)"
   ]
  },
  {
   "cell_type": "code",
   "execution_count": 1,
   "metadata": {},
   "outputs": [
    {
     "name": "stdout",
     "output_type": "stream",
     "text": [
      "Usage: mltk [OPTIONS] COMMAND [ARGS]...\n",
      "\n",
      "  Silicon Labs Machine Learning Toolkit\n",
      "\n",
      "  This is a Python package with command-line utilities and scripts to aid the\n",
      "  development of machine learning models for Silicon Lab's embedded platforms.\n",
      "\n",
      "Options:\n",
      "  --version  Display the version of this mltk package and exit\n",
      "  --help     Show this message and exit.\n",
      "\n",
      "Commands:\n",
      "  build           MLTK build commands\n",
      "  classify_audio  Classify keywords/events detected in a microphone's...\n",
      "  commander       Silab's Commander Utility\n",
      "  custom          Custom Model Operations\n",
      "  evaluate        Evaluate a trained ML model\n",
      "  profile         Profile a model\n",
      "  quantize        Quantize a model into a .tflite file\n",
      "  summarize       Generate a summary of a model\n",
      "  train           Train an ML model\n",
      "  update_params   Update the parameters of a previously trained model\n",
      "  utest           Run the all unit tests\n",
      "  view            View an interactive graph of the given model in a...\n",
      "  view_audio      View the spectrograms generated by the...\n"
     ]
    }
   ],
   "source": [
    "!mltk --help"
   ]
  },
  {
   "cell_type": "markdown",
   "metadata": {},
   "source": [
    "## Machine Learning and Keyword-Spotting Overview\n",
    "\n",
    "Before continuing with this tutorial, it is recommended to review the following presentations:  \n",
    "- [MLTK Overview](https://siliconlabs.github.io/mltk/docs/overview.html) - An overview of the core concepts used by the this tutorial\n",
    "- [Keyword Spotting Overview](https://siliconlabs.github.io/mltk/docs/audio/keyword_spotting_overview.html) - An overview of how keyword spotting works"
   ]
  },
  {
   "cell_type": "markdown",
   "metadata": {},
   "source": [
    "## Dataset Selection and Preprocessing Parameters\n",
    "\n",
    "Before starting the actual tutorial, let's first discuss datasets.\n",
    "\n",
    "### TL;DR  \n",
    "\n",
    "1. A _representative_ dataset must be acquired for the trained model to perform well in the real-world\n",
    "2. The dataset should (typically) be transformed so that the model can efficiently learn the features of the dataset\n",
    "3. Whatever transformations are used must be identical at training-time on the PC and run-time on the embedded device\n",
    "4. The size of the dataset can be effectively increased by randomly augmenting it during training (changing the pitch, speed, adding background noise, etc.)\n",
    "\n",
    "### Acquire a Representative Dataset\n",
    "\n",
    "The most critical aspect of any machine learning model is the dataset. A _representative_ dataset is necessary to train a robust model.\n",
    "A model that is trained on a dataset that is too small and/or not representative of what would be seen in the real-world will likely not perform well.\n",
    "\n",
    "In this tutorial, we want to create a keyword spotting classification machine learning model. This implies the following about the dataset:  \n",
    "- The dataset must contain audio samples of the keywords we want to detect\n",
    "- The dataset must be labelled, i.e. each sample in the dataset must have an associated \"class\", e.g. \"on\", \"off\"\n",
    "- The dataset must be relatively large and representative to account for the variance in spoken language (accents, background noise, etc.) \n",
    "\n",
    "For this tutorial, we'll use the [Google Speech Commands v2](https://www.tensorflow.org/datasets/catalog/speech_commands) dataset\n",
    "(__NOTE:__ This dataset is automatically downloaded in a later step in this tutorial).  \n",
    "This dataset is effectively a directory of sub-directories, and each sub-directory contains thousands of 1s audio clips.\n",
    "The name of each sub-directory corresponds to the word being spoken in the audio clip, e.g:\n",
    "\n",
    "```console\n",
    "/dataset\n",
    "/dataset/on\n",
    "/dataset/on/sample1.wav\n",
    "/dataset/on/sample2.wav\n",
    "...\n",
    "/dataset/off\n",
    "/dataset/off/sample1.wav\n",
    "/dataset/off/sample2.wav\n",
    "...\n",
    "```\n",
    "\n",
    "So this dataset meets our requirements:  \n",
    "- It contains audio samples of the keywords we want to detect (\"on\", \"off\")\n",
    "- The samples are labelled (all \"on\" samples are in the \"on\" sub-directory etc.)\n",
    "- The dataset is representative (the audio clips are taken from many different people saying the same words)\n",
    "\n",
    "__NOTE:__ For many machine learning applications acquiring a dataset will not be so easy. \n",
    "Many times the dataset will suffer from one or more of the following:\n",
    "- The dataset does not exist - Need to manually collect samples\n",
    "- The raw samples exist but are not \"labeled\" - Need to manually group the samples\n",
    "- The dataset is \"dirty\" - Bad/corrupt samples, mislabeled samples\n",
    "- The dataset is not representative - Duplicate/similar samples, not diverse enough to cover the possible range seen in the real-world\n",
    "\n",
    "__NOTE:__ A clean, representative dataset is one of the best ways to train a robust model.\n",
    "It is _highly_ recommended to invest the time/energy to create a good dataset!\n",
    "\n",
    "\n",
    "### Feature Engineering\n",
    "\n",
    "Along with a representative dataset, we (usually) need to transform the individual samples of the dataset\n",
    "so that the machine learning model can efficiently learn the \"features\" of the dataset, and thus make accurate predictions. \n",
    "This process is frequently called \"feature engineering\". One way of describing feature engineering is: \n",
    "Use human insight to amplify the signals of the dataset so that a machine can more efficiently learn the patterns in it.\n",
    "\n",
    "The transform(s) used for feature engineering are highly application-specific.\n",
    "\n",
    "For this tutorial, we use the common technique of converting the raw audio into a spectrogram (i.e. gray-scale image).\n",
    "The machine learning model then learns the patterns in the spectrogram images that correspond to the keywords in the audio samples.\n",
    "\n",
    "### Featuring Engineering on the Edge\n",
    "\n",
    "An important aspect to keep in mind about the transform(s) chosen for featuring engineering \n",
    "is that whatever is done to the dataset samples during training must also be\n",
    "done on the embedded device at run-time. i.e. The _exact_ algorithms used to generate the\n",
    "spectrogram on the PC during training _must_ be used on the embedded device at run-time.\n",
    "Any divergence will cause the embedded model to \"see\" different samples and likely not perform well (if at all).\n",
    "\n",
    "For this purpose, the MLTK offers an [Audio Feature Generator](https://siliconlabs.github.io/mltk/docs/audio/audio_feature_generator.html) component. \n",
    "This component generates spectrograms from raw audio. The algorithms used in this component are accessible via:\n",
    "\n",
    "- MLTK [Python API](https://siliconlabs.github.io/mltk/docs/python_api/data_preprocessing/audio_feature_generator.html)\n",
    "- Gecko SDK [firmware component](https://siliconlabs.github.io/mltk/docs/audio/audio_feature_generator.html#gecko-sdk-component)\n",
    "\n",
    "In this way, the _exact_ spectrogram generation algorithms used during training may also be used at\n",
    "run-time on the embedded device.\n",
    "\n",
    "Refer to the  [Audio Feature Generator](https://siliconlabs.github.io/mltk/docs/audio/audio_feature_generator.html) documentation\n",
    "and [Audio Visualization](#audio-visualization) section for more details on how the various parameters used to generate the spectrogram may be determined.\n",
    "\n",
    "\n",
    "### Data Augmentation\n",
    "\n",
    "A useful technique for expanding the size of a dataset (and hopefully making it more representative) is to apply random augmentations to the training samples.\n",
    "For instance, audio dataset augmentations might include:\n",
    "- Increase/decrease speed\n",
    "- Increase/decrease pitch\n",
    "- Add random background noises\n",
    "\n",
    "In this way, the model never \"sees\" the same sample during training which should hopefully make it robust\n",
    "as it has learned from a larger collection of samples.\n",
    "\n",
    "For this purpose, the MLTK offers an [Audio Data Generator](https://siliconlabs.github.io/mltk/docs/python_api/data_preprocessing/audio_feature_generator.html)\n",
    "Python component. The Audio Data Generator uses the audio dataset as an input and randomly augments\n",
    "the audio samples during training (see the [Model Specification](#model-specification) section below).\n",
    "\n",
    "__NOTE:__ Augmentations are only applied during training. They are not applied at run-time.\n",
    "\n",
    "Refer to the [Audio Visualization](#audio-visualization) section for more details on how the various parameters used to augment the audio may be determined."
   ]
  },
  {
   "cell_type": "markdown",
   "metadata": {},
   "source": [
    "## Model Specification\n",
    "\n",
    "The model specification is a standard Python script containing everything needed to build, train, and evaluate a machine learning model in the MLTK.\n",
    "\n",
    "Refer to the [Model Specification Guide](https://siliconlabs.github.io/mltk/docs/guides/model_specification.html) for more details about this file.\n",
    "\n",
    "The completed model specification used for this tutorial may be found on Github: [keyword_spotting_on_off.py](https://github.com/siliconlabs/mltk/blob/master/mltk/models/siliconlabs/keyword_spotting_on_off.py).  \n",
    "\n",
    "The following sub-sections describe how to create this model specification from scratch."
   ]
  },
  {
   "cell_type": "markdown",
   "metadata": {},
   "source": [
    "### Create the specification script\n",
    "\n",
    "From your favorite text editor, create a model specification Python script file, e.g: \n",
    "`my_keyword_spotting_on_off.py`\n",
    "\n",
    "The name of this file is the name given to the model. So all subsequent `mltk` commands will use the model name `my_keyword_spotting_on_off`, e.g:\n",
    "\n",
    "```shell\n",
    "mltk train my_keyword_spotting_on_off\n",
    "```\n",
    "You may use any name as long as it contains alphanumeric or underscore characters.\n",
    "\n",
    "When executing a command, the MLTK searches for the model specification script by model name.   \n",
    "The MLTK commands search the current working directory then any configured paths.  \n",
    "Refer to the [Model Search Path Guide](https://siliconlabs.github.io/mltk/docs/guides/model_search_path.html) for more details.\n",
    "\n",
    "__NOTE:__ The commands below use the pre-defined model name: `keyword_spotting_on_off`, however, you should replace that with your model's name, e.g.: `my_keyword_spotting_on_off`.\n",
    "\n",
    "__NOTE:__ A new, more robust pre-trained model is available: [keyword_spotting_on_off_v2](https://siliconlabs.github.io/mltk/docs/python_api/models/siliconlabs/keyword_spotting_on_off_v2.html) "
   ]
  },
  {
   "cell_type": "markdown",
   "metadata": {},
   "source": [
    "### Add necessary imports\n",
    "\n",
    "Next, open the newly created Python script: `my_keyword_spotting_on_off.py`  \n",
    "in your favorite text editor and add the following to the top of the model specification script:"
   ]
  },
  {
   "cell_type": "code",
   "execution_count": 2,
   "metadata": {},
   "outputs": [],
   "source": [
    "# Import the Tensorflow packages\n",
    "# required to build the model layout\n",
    "import numpy as np\n",
    "import tensorflow as tf\n",
    "from tensorflow.keras import regularizers\n",
    "from tensorflow.keras.models import Sequential\n",
    "from tensorflow.keras.layers import (\n",
    "    Dense, \n",
    "    Activation, \n",
    "    Flatten, \n",
    "    BatchNormalization,\n",
    "    Conv2D,\n",
    "    MaxPooling2D,\n",
    "    Dropout\n",
    ")\n",
    "\n",
    "# Import the MLTK model object \n",
    "# and necessary mixins\n",
    "# Later in this script we configure the various properties\n",
    "from mltk.core import (\n",
    "    MltkModel,\n",
    "    TrainMixin,\n",
    "    AudioDatasetMixin,\n",
    "    EvaluateClassifierMixin\n",
    ")\n",
    "\n",
    "# Import the Google speech_commands dataset package\n",
    "# This manages downloading and extracting the dataset\n",
    "from mltk.datasets.audio.speech_commands import speech_commands_v2\n",
    "\n",
    "# Import the ParallelAudioDataGenerator\n",
    "# This has two main jobs:\n",
    "# 1. Process the Google speech_commands dataset and apply random augmentations during training\n",
    "# 2. Generate a spectrogram using the AudioFeatureGenerator from each augmented audio sample \n",
    "#    and give the spectrogram to Tensorflow for model training\n",
    "from mltk.core.preprocess.audio.parallel_generator import ParallelAudioDataGenerator\n",
    "# Import the AudioFeatureGeneratorSettings which we'll configure \n",
    "# and give to the ParallelAudioDataGenerator\n",
    "from mltk.core.preprocess.audio.audio_feature_generator import AudioFeatureGeneratorSettings"
   ]
  },
  {
   "cell_type": "markdown",
   "metadata": {},
   "source": [
    "These import various Tensorflow and MLTK packages we'll use throughout the script.  \n",
    "Refer to the comments above each import for more details."
   ]
  },
  {
   "cell_type": "markdown",
   "metadata": {},
   "source": [
    "### Define Model Object\n",
    "\n",
    "Next, add the following to the model specification script:"
   ]
  },
  {
   "cell_type": "code",
   "execution_count": 3,
   "metadata": {},
   "outputs": [],
   "source": [
    "# Define a custom model object with the following 'mixins':\n",
    "# - TrainMixin        - Provides classifier model training operations and settings\n",
    "# - AudioDatasetMixin - Provides audio data generation operations and settings\n",
    "# - EvaluateClassifierMixin     - Provides classifier evaluation operations and settings\n",
    "# @mltk_model # NOTE: This tag is required for this model be discoverable\n",
    "class MyModel(\n",
    "    MltkModel, \n",
    "    TrainMixin, \n",
    "    AudioDatasetMixin, \n",
    "    EvaluateClassifierMixin\n",
    "):\n",
    "    pass\n",
    "\n",
    "# Instantiate our custom model object\n",
    "# The rest of this script simply configures the properties\n",
    "# of our custom model object\n",
    "my_model = MyModel()"
   ]
  },
  {
   "cell_type": "markdown",
   "metadata": {},
   "source": [
    "This defines and instantiates a custom MltkModel object with several model \"mixins\".  \n",
    "\n",
    "The custom model object must inherit the [MltkModel](https://siliconlabs.github.io/mltk/docs/python_api/mltk_model/index.html) object.  \n",
    "Additionally, it inherits:\n",
    "- [TrainMixin](https://siliconlabs.github.io/mltk/docs/python_api/mltk_model/train_mixin.html) so that we can train the model\n",
    "- [AudioDatasetMixin](https://siliconlabs.github.io/mltk/docs/python_api/mltk_model/audio_dataset_mixin.html) so that we can train the model with the [ParallelAudioDataGenerator](https://siliconlabs.github.io/mltk/docs/python_api/data_preprocessing/audio_data_generator.html)\n",
    "- [EvaluateClassifierMixin](https://siliconlabs.github.io/mltk/docs/python_api/mltk_model/evaluate_classifier_mixin.html) so that we can evaluate the trained model\n",
    "\n",
    "The rest of the model specification script configures the various properties of our custom model object."
   ]
  },
  {
   "cell_type": "markdown",
   "metadata": {},
   "source": [
    "### Configure the general model settings"
   ]
  },
  {
   "cell_type": "code",
   "execution_count": null,
   "metadata": {},
   "outputs": [],
   "source": [
    "# For better tracking, the version should be incremented any time a non-trivial change is made\n",
    "# NOTE: The version is optional and not used directly used by the MLTK\n",
    "my_model.version = 1 \n",
    "# Provide a brief description about what this model models\n",
    "# This description goes in the \"description\" field of the .tflite model file\n",
    "my_model.description = 'Keyword spotting classifier to detect: \"on\" and \"off\"'"
   ]
  },
  {
   "cell_type": "markdown",
   "metadata": {},
   "source": [
    "### Configure the basic training settings\n",
    "\n",
    "Refer to the [TrainMixin](https://siliconlabs.github.io/mltk/docs/python_api/mltk_model/train_mixin.html) for more details about each property."
   ]
  },
  {
   "cell_type": "code",
   "execution_count": null,
   "metadata": {},
   "outputs": [],
   "source": [
    "# This specifies the number of times we run the training\n",
    "# samples through the model to update the model weights.\n",
    "# Typically, a larger value leads to better accuracy at the expense of training time.\n",
    "# Set to -1 to use the early_stopping callback and let the scripts\n",
    "# determine how many epochs to train for (see below).\n",
    "# Otherwise set this to a specific value (typically 40-200)\n",
    "my_model.epochs = 80\n",
    "# Specify how many samples to pass through the model\n",
    "# before updating the training gradients.\n",
    "# Typical values are 10-64\n",
    "# NOTE: Larger values require more memory and may not fit on your GPU\n",
    "my_model.batch_size = 10 \n",
    "# This specifies the algorithm used to update the model gradients\n",
    "# during training. Adam is very common\n",
    "# See https://www.tensorflow.org/api_docs/python/tf/keras/optimizers\n",
    "my_model.optimizer = 'adam' \n",
    "# List of metrics to be evaluated by the model during training and testing\n",
    "my_model.metrics = ['accuracy']\n",
    "# The \"loss\" function used to update the weights\n",
    "# This is a classification problem with more than two labels so we use categorical_crossentropy\n",
    "# See https://www.tensorflow.org/api_docs/python/tf/keras/losses\n",
    "my_model.loss = 'categorical_crossentropy'"
   ]
  },
  {
   "cell_type": "markdown",
   "metadata": {},
   "source": [
    "### Configure the training callbacks\n",
    "\n",
    "Refer to the [TrainMixin](https://siliconlabs.github.io/mltk/docs/python_api/mltk_model/train_mixin.html) for more details about each property."
   ]
  },
  {
   "cell_type": "code",
   "execution_count": null,
   "metadata": {},
   "outputs": [],
   "source": [
    "# Generate checkpoints every time the validation accuracy improves\n",
    "# See https://www.tensorflow.org/api_docs/python/tf/keras/callbacks/ModelCheckpoint\n",
    "my_model.checkpoint['monitor'] =  'val_accuracy'\n",
    "\n",
    "# If the training accuracy doesn't improve after 'patience' epochs \n",
    "# then decrease the learning rate by 'factor'\n",
    "# https://www.tensorflow.org/api_docs/python/tf/keras/callbacks/ReduceLROnPlateau\n",
    "# NOTE: Alternatively, we could define our own learn rate schedule\n",
    "#       using my_model.lr_schedule\n",
    "# my_model.reduce_lr_on_plateau = dict(\n",
    "#  monitor='accuracy',\n",
    "#  factor = 0.25,\n",
    "#  patience = 10\n",
    "#)\n",
    "\n",
    "# https://www.tensorflow.org/api_docs/python/tf/keras/callbacks/LearningRateScheduler\n",
    "# Update the learning rate each epoch based on the given callback\n",
    "def lr_schedule(epoch):\n",
    "    initial_learning_rate = 0.001\n",
    "    decay_per_epoch = 0.95\n",
    "    lrate = initial_learning_rate * (decay_per_epoch ** epoch)\n",
    "    return lrate\n",
    "\n",
    "my_model.lr_schedule = dict(\n",
    "    schedule = lr_schedule,\n",
    "    verbose = 1\n",
    ")\n"
   ]
  },
  {
   "cell_type": "markdown",
   "metadata": {},
   "source": [
    "### Configure the TF-Lite Converter settings\n",
    "\n",
    "The [Tensorflow-Lite Converter](https://www.tensorflow.org/lite/convert) is used to \"quantize\" the model.  \n",
    "The quantized model is what is eventually programmed to the embedded device.\n",
    "\n",
    "Refer to the [Model Quantization Guide](https://siliconlabs.github.io/mltk/docs/guides/model_quantization.html) for more details."
   ]
  },
  {
   "cell_type": "code",
   "execution_count": null,
   "metadata": {},
   "outputs": [],
   "source": [
    "# These are the settings used to quantize the model\n",
    "# We want all the internal ops as well as\n",
    "# model input/output to be int8\n",
    "my_model.tflite_converter['optimizations'] = [tf.lite.Optimize.DEFAULT]\n",
    "my_model.tflite_converter['supported_ops'] = [tf.lite.OpsSet.TFLITE_BUILTINS_INT8]\n",
    "# NOTE: A float32 model input/output is also possible\n",
    "my_model.tflite_converter['inference_input_type'] = np.int8 \n",
    "my_model.tflite_converter['inference_output_type'] = np.int8\n",
    "# Automatically generate a representative dataset from the validation data\n",
    "my_model.tflite_converter['representative_dataset'] = 'generate'\n"
   ]
  },
  {
   "cell_type": "markdown",
   "metadata": {},
   "source": [
    "### Configure the dataset settings\n",
    "\n",
    "Next, we specify the dataset. In this tutorial we use the [Google Speech Commands v2](https://www.tensorflow.org/datasets/catalog/speech_commands) dataset which comes as an MLTK package.\n",
    "\n",
    "__NOTE:__ While the MLTK comes with pre-defined datasets, any external dataset may also be specified.  \n",
    "Refer to the [AudioDatasetMixin.dataset](https://siliconlabs.github.io/mltk/docs/python_api/mltk_model/audio_dataset_mixin.html) property for more details.\n",
    "\n",
    "__NOTE:__ While a dataset path can be hard coded, it is _strongly_ recommended that the script dynamically downloads the dataset from the internet. This allows for the model training and evaluating to be reproducible. It also enables remote training on cloud services like [Google Colab](https://colab.research.google.com/notebooks/welcome.ipynb) which need to download the dataset any time a virtual instance is created."
   ]
  },
  {
   "cell_type": "code",
   "execution_count": null,
   "metadata": {},
   "outputs": [],
   "source": [
    "# Specify the dataset \n",
    "# NOTE: This can also be an absolute path to a directory\n",
    "#       or a Python function\n",
    "# See: https://siliconlabs.github.io/mltk/docs/python_api/mltk_model/audio_dataset_mixin.html#mltk.core.AudioDatasetMixin.dataset\n",
    "my_model.dataset = speech_commands_v2\n",
    "# We're using a 'categorical_crossentropy' loss\n",
    "# so must also use a `categorical` class mode for the data generation\n",
    "my_model.class_mode = 'categorical'"
   ]
  },
  {
   "cell_type": "markdown",
   "metadata": {},
   "source": [
    "### Configure the keywords to detect\n",
    "\n",
    "This is likely the most interesting part of the model specification script.  \n",
    "Here, we define which keywords we want our model to detect.  \n",
    "For this tutorial, we want to detect `on` and `off`, however,\n",
    "you may modify this to any keyword that is found in the [Google Speech Commands](https://siliconlabs.github.io/mltk/docs/python_api/datasets/index.html#google-speech-commands-v2) dataset:\n",
    "\n",
    "Yes, No, Up, Down, Left, Right, On, Off, Stop, Go, Zero, One, Two, Three, Four, Five, Six, Seven, Eight, Nine\n",
    "\n",
    "__NOTE:__ See the [Transfer Learning Tutorial](https://siliconlabs.github.io/mltk/mltk/tutorials/keyword_spotting_with_transfer_learning.html) which describes how to use the [MobileNetV2](https://arxiv.org/abs/1801.04381) model. While MobileNetV2 is larger, it tends to have better performance than the model used in this tutorial which was specifically designed for the \"yes/no\" keywords."
   ]
  },
  {
   "cell_type": "code",
   "execution_count": null,
   "metadata": {},
   "outputs": [],
   "source": [
    "# Specify the keywords we want to detect\n",
    "# In this model, we detect \"on\" and \"off\",\n",
    "# plus two pseudo classes: _unknown_ and _silence_\n",
    "#\n",
    "# Any number of classes may be added here as long as they're\n",
    "# found in the dataset specified above.\n",
    "# NOTE: You'll likely need a larger model for more classes\n",
    "my_model.classes = ['on', 'off', '_unknown_', '_silence_']"
   ]
  },
  {
   "cell_type": "markdown",
   "metadata": {},
   "source": [
    "### Configure the AudioFeatureGenerator settings\n",
    "\n",
    "Next, we specify the settings used to generate the spectrograms.  \n",
    "Spectrograms are generated by the [AudioFeatureGenerator](https://siliconlabs.github.io/mltk/docs/python_api/data_preprocessing/audio_feature_generator.html) MLTK Python component.  \n",
    "See the [Audio Feature Generator](https://siliconlabs.github.io/mltk/docs/python_api/data_preprocessing/audio_feature_generator.html) guide for more details.\n",
    "\n",
    "Refer to the [Model Parameters](#model-parameters) section below for more details on how these settings eventually make it onto the embedded device.\n",
    "\n",
    "Also, refer to the section [Audio Visualization](#audio-visualization) for more details on how to determine which settings to use."
   ]
  },
  {
   "cell_type": "code",
   "execution_count": null,
   "metadata": {},
   "outputs": [],
   "source": [
    "# These are the settings used by the AudioFeatureGenerator \n",
    "# to generate spectrograms from the audio samples\n",
    "# These settings must be used during modeling training\n",
    "# AND by embedded device at runtime\n",
    "#\n",
    "# See the command: \"mltk view_audio\"\n",
    "# to get a better idea of how to specify these settings\n",
    "frontend_settings = AudioFeatureGeneratorSettings()\n",
    "\n",
    "frontend_settings.sample_rate_hz = 8000  # This can also be 16k for slightly better performance at the cost of more RAM\n",
    "frontend_settings.sample_length_ms = 1000\n",
    "frontend_settings.window_size_ms = 30\n",
    "frontend_settings.window_step_ms = 20\n",
    "frontend_settings.filterbank_n_channels = 32\n",
    "frontend_settings.filterbank_upper_band_limit = 4000.0-1 # Spoken language usually only goes up to 4k\n",
    "frontend_settings.filterbank_lower_band_limit = 100.0\n",
    "frontend_settings.noise_reduction_enable = True\n",
    "frontend_settings.noise_reduction_smoothing_bits = 5\n",
    "frontend_settings.noise_reduction_even_smoothing = 0.004\n",
    "frontend_settings.noise_reduction_odd_smoothing = 0.004\n",
    "frontend_settings.noise_reduction_min_signal_remaining = 0.05\n",
    "frontend_settings.pcan_enable = False\n",
    "frontend_settings.pcan_strength = 0.95\n",
    "frontend_settings.pcan_offset = 80.0\n",
    "frontend_settings.pcan_gain_bits = 21\n",
    "frontend_settings.log_scale_enable = True\n",
    "frontend_settings.log_scale_shift = 6"
   ]
  },
  {
   "cell_type": "markdown",
   "metadata": {},
   "source": [
    "### Configure the data augmentation settings\n",
    "Next, we configure how we want to augment the dataset during training.  \n",
    "See the [ParallelAudioDataGenerator](https://siliconlabs.github.io/mltk/docs/python_api/data_preprocessing/audio_data_generator.html) API doc for more details.\n",
    "\n",
    "Refer to the section [Audio Visualization](#audio-visualization) for more details on how to determine which settings to use."
   ]
  },
  {
   "cell_type": "code",
   "execution_count": null,
   "metadata": {},
   "outputs": [],
   "source": [
    "# Configure the data generator settings\n",
    "# This specifies how to augment the training samples\n",
    "# See the command: \"mltk visualize_audio\"\n",
    "# to get a better idea of how these augmentations affect\n",
    "# the samples\n",
    "my_model.datagen = ParallelAudioDataGenerator(\n",
    "    dtype=my_model.tflite_converter['inference_input_type'],\n",
    "    frontend_settings=frontend_settings,\n",
    "    cores=0.45, # Adjust this as necessary for your PC setup\n",
    "    debug=False, # Set this to true to enable debugging of the generator\n",
    "    max_batches_pending=16,  # Adjust this as necessary for your PC setup (smaller -> less RAM)\n",
    "    validation_split= 0.10,\n",
    "    validation_augmentation_enabled=True,\n",
    "    samplewise_center=False,\n",
    "    samplewise_std_normalization=False,\n",
    "    rescale=None,\n",
    "    unknown_class_percentage=2.0, # Increasing this may help model robustness at the expense of training time\n",
    "    silence_class_percentage=0.3,\n",
    "    offset_range=(0.0,1.0),\n",
    "    trim_threshold_db=30,\n",
    "    noise_colors=None,\n",
    "    loudness_range=(0.2, 1.0),\n",
    "    speed_range=(0.9,1.1),\n",
    "    pitch_range=(0.9,1.1),\n",
    "    #vtlp_range=(0.9,1.1),\n",
    "    bg_noise_range=(0.1,0.4),\n",
    "    bg_noise_dir='_background_noise_' # This is a directory provided by the google speech commands dataset, can also provide an absolute path\n",
    ")\n"
   ]
  },
  {
   "cell_type": "markdown",
   "metadata": {},
   "source": [
    "### Define the model layout\n",
    "\n",
    "This defines the actual structure of the model that runs on the embedded device using the [Keras API](https://keras.io/about).\n",
    "The details of how to create the model structure are out-of-scope for this tutorial.\n",
    "\n",
    "Please note that many times you do not need to define you own model. Instead, you can use a pre-defined model\n",
    "such as [MobileNetV1](https://siliconlabs.github.io/mltk/docs/python_api/models/common_models.html#mobilenet-v1) or [ResNetv1-10](https://siliconlabs.github.io/mltk/docs/python_api/models/common_models.html#resnetv1-10). The MLTK provides some common models as Python packages in the [Shared Models](https://siliconlabs.github.io/mltk/docs/python_api/models/common_models.html) section with example usage such as [image_classification.py](https://github.com/siliconlabs/mltk/blob/master/mltk/models/tinyml/image_classification.py).\n",
    "\n",
    "\n",
    "__Note:__ The model used in this tutorial was developed by Silicon Labs and is covered by a standard \n",
    "[Silicon Labs MSLA](https://www.silabs.com/about-us/legal/master-software-license-agreement)"
   ]
  },
  {
   "cell_type": "code",
   "execution_count": null,
   "metadata": {},
   "outputs": [],
   "source": [
    "# This defines the actual model layout using the Keras API.\n",
    "# This particular model is a relatively standard\n",
    "# sequential Convolution Neural Network (CNN).\n",
    "#\n",
    "# It is important to the note the usage of the \n",
    "# \"model\" argument.\n",
    "# Rather than hardcode values, the model is\n",
    "# used to build the model, e.g.:\n",
    "# Dense(model.n_classes)\n",
    "#\n",
    "# This way, the various model properties above can be modified\n",
    "# without having to re-write this section.\n",
    "#\n",
    "#\n",
    "def my_model_builder(model: MyModel):\n",
    "    weight_decay = 1e-4\n",
    "    regularizer = regularizers.l2(weight_decay)\n",
    "    input_shape = model.input_shape\n",
    "    filters = 8\n",
    " \n",
    "    keras_model = Sequential(name=model.name, layers = [\n",
    "        Conv2D(filters, (3,3), \n",
    "            padding='same', \n",
    "            kernel_regularizer=regularizer, \n",
    "            input_shape=input_shape, \n",
    "            strides=(2,2)\n",
    "        ),\n",
    "        BatchNormalization(),\n",
    "        Activation('relu'),\n",
    "\n",
    "        Conv2D(2*filters, (3,3), \n",
    "            padding='same', \n",
    "            kernel_regularizer=regularizer, \n",
    "            strides=(2,2)\n",
    "        ),\n",
    "        BatchNormalization(),\n",
    "        Activation('relu'),\n",
    "        Dropout(rate=0.1),\n",
    "\n",
    "        Conv2D(4*filters, (3,3), \n",
    "            padding='same', \n",
    "            kernel_regularizer=regularizer, \n",
    "            strides=(2,2)\n",
    "        ),\n",
    "        BatchNormalization(),\n",
    "        Activation('relu'),\n",
    "        Dropout(rate=0.3),\n",
    "        \n",
    "        MaxPooling2D(pool_size=[7,1]),\n",
    "        \n",
    "        Flatten(),\n",
    "        Dense(model.n_classes, activation='softmax')\n",
    "    ])\n",
    " \n",
    "    keras_model.compile(\n",
    "        loss=model.loss, \n",
    "        optimizer=model.optimizer, \n",
    "        metrics=model.metrics\n",
    "    )\n",
    "    return keras_model\n",
    "\n",
    "my_model.build_model_function = my_model_builder"
   ]
  },
  {
   "cell_type": "markdown",
   "metadata": {},
   "source": [
    "At this point, the model specification script should have everything needed to train, evaluate, and generate model file that can run on an embedded device.  \n",
    "The following sections describe how to use the MLTK to perform these tasks."
   ]
  },
  {
   "cell_type": "markdown",
   "metadata": {},
   "source": [
    "## Audio Visualization\n",
    "\n",
    "__NOTE:__ This section is __experimental__ and is optional for the rest of this tutorial.\n",
    "You may safely skip to the next section.\n",
    "\n",
    "Before training the model, it is important that the generated spectrogram has enough detail from which the ML model can learn (i.e. \"feature engineering\"). \n",
    "The [AudioFeatureGenerator](https://siliconlabs.github.io/mltk/docs/python_api/data_preprocessing/audio_feature_generator.html) has numerous [settings](https://siliconlabs.github.io/mltk/docs/python_api/data_preprocessing/audio_feature_generator_settings.html) to control how the spectrogram is generated.\n",
    "\n",
    "For this purpose, the MLTK features an experimental command: `view_audio` which allows for visualizing a generated spectrogram in real-time as the various parameters are adjusted via GUI.\n",
    "It also allows for adjusting the various augmentation parameters and listening to the audio playback.\n",
    "\n",
    "See the [Audio Feature Generator](https://siliconlabs.github.io/mltk/docs/audio/audio_feature_generator.html) guide for more details.\n",
    "\n",
    "__NOTE:__ Internally, this command uses [wxPython](https://www.wxpython.org) and _must_ run locally. It will not work on a remote server (e.g. Colab)."
   ]
  },
  {
   "cell_type": "code",
   "execution_count": 2,
   "metadata": {},
   "outputs": [],
   "source": [
    "# Invoke the view_audio command from a LOCAL terminal\n",
    "# NOTE: Change this command to use\n",
    "#      \"my_keyword_spotting_on_off\" or whatever you called your model\n",
    "!mltk view_audio keyword_spotting_on_off"
   ]
  },
  {
   "cell_type": "markdown",
   "metadata": {},
   "source": [
    "After running this command and playing with the GUI, you should have a better idea of what settings to use for the AudioFeatureGenerator and data augmentation parameters.\n",
    "\n",
    "__NOTE:__ Care should be given when selecting the spectrogram size. e.g. The dimensions given in the upper-left:\n",
    "\n",
    "![Visualizer Dimensions](https://siliconlabs.github.io/mltk/_static/images/visualizer_dimensions.png)\n",
    "\n",
    "A larger spectrogram means a larger model input which ultimately means more processing that is required by the embedded device at run-time.\n",
    "\n",
    "See the [Model Optimization Tutorial](https://siliconlabs.github.io/mltk/mltk/tutorials/model_optimization.html) for more details."
   ]
  },
  {
   "cell_type": "markdown",
   "metadata": {},
   "source": [
    "## Model Parameters\n",
    "\n",
    "As stated in the [Feature Engineering on the Edge](#featuring-engineering-on-the-edge) section, it is extremely important that whatever transforms are done to the dataset during training are also done at run-time on the embedded device.\n",
    "\n",
    "To help with this, the MLTK allows for embedding parameters into the generated `.tflite` model file.\n",
    "\n",
    "Refer to the [Model Parameters Guide](https://siliconlabs.github.io/mltk/docs/guides/model_parameters.html) for more details about how this works.\n",
    "\n",
    "This is useful for this tutorial as the MLTK will automatically embed all of the [AudioFeatureGeneratorSettings](https://siliconlabs.github.io/mltk/docs/python_api/data_preprocessing/audio_feature_generator.html#audiofeaturegenerator-settings) into the generated `.tflite` model file.\n",
    "Later, the Gecko SDK will read the settings from the `.tflite` model file when generating the project. \n",
    "In this way, the [AudioFeatureGenerator](https://siliconlabs.github.io/mltk/docs/audio/audio_feature_generator.html) that runs on the embedded device will use the _exact_ same settings.\n",
    "\n",
    "__NOTE:__ The `mltk summarize --tflite` command prints all the parameters that are embedded into the `.tflite` model file, including the AudioFeatureGenerator settings."
   ]
  },
  {
   "cell_type": "markdown",
   "metadata": {},
   "source": [
    "## Model Summary\n",
    "\n",
    "With the model specification complete, it is sometimes useful to generate a summary of the model before we spend the time to train it.  \n",
    "This can be done using the `summarize` command.\n",
    "\n",
    "If you're using a local terminal, navigate to the same directory are your model specification script, e.g. `my_keyword_spotting_on_off.py` and modify the commands to use `my_keyword_spotting_on_off` or whatever you called your model.\n",
    "\n",
    "__NOTE:__ Since we have not trained our model yet, we must add the `--build` option to the command.  \n",
    "Once the model is trained, this option is not required."
   ]
  },
  {
   "cell_type": "code",
   "execution_count": 4,
   "metadata": {},
   "outputs": [
    {
     "name": "stdout",
     "output_type": "stream",
     "text": [
      "\n",
      "Epoch 1: LearningRateScheduler setting learning rate to 0.001.\n",
      "\n",
      "Epoch 2: LearningRateScheduler setting learning rate to 0.00095.\n",
      "\n",
      "Epoch 3: LearningRateScheduler setting learning rate to 0.0009025.\n",
      "Model: \"keyword_spotting_on_off\"\n",
      "_________________________________________________________________\n",
      " Layer (type)                Output Shape              Param #   \n",
      "=================================================================\n",
      " conv2d (Conv2D)             (None, 25, 16, 8)         80        \n",
      "                                                                 \n",
      " batch_normalization (BatchN  (None, 25, 16, 8)        32        \n",
      " ormalization)                                                   \n",
      "                                                                 \n",
      " activation (Activation)     (None, 25, 16, 8)         0         \n",
      "                                                                 \n",
      " conv2d_1 (Conv2D)           (None, 13, 8, 16)         1168      \n",
      "                                                                 \n",
      " batch_normalization_1 (Batc  (None, 13, 8, 16)        64        \n",
      " hNormalization)                                                 \n",
      "                                                                 \n",
      " activation_1 (Activation)   (None, 13, 8, 16)         0         \n",
      "                                                                 \n",
      " dropout (Dropout)           (None, 13, 8, 16)         0         \n",
      "                                                                 \n",
      " conv2d_2 (Conv2D)           (None, 7, 4, 32)          4640      \n",
      "                                                                 \n",
      " batch_normalization_2 (Batc  (None, 7, 4, 32)         128       \n",
      " hNormalization)                                                 \n",
      "                                                                 \n",
      " activation_2 (Activation)   (None, 7, 4, 32)          0         \n",
      "                                                                 \n",
      " dropout_1 (Dropout)         (None, 7, 4, 32)          0         \n",
      "                                                                 \n",
      " max_pooling2d (MaxPooling2D  (None, 1, 4, 32)         0         \n",
      " )                                                               \n",
      "                                                                 \n",
      " flatten (Flatten)           (None, 128)               0         \n",
      "                                                                 \n",
      " dense (Dense)               (None, 4)                 516       \n",
      "                                                                 \n",
      "=================================================================\n",
      "Total params: 6,628\n",
      "Trainable params: 6,516\n",
      "Non-trainable params: 112\n",
      "_________________________________________________________________\n",
      "\n",
      "Total MACs: 278.144 k\n",
      "Total OPs: 574.468 k\n",
      "Name: keyword_spotting_on_off\n",
      "Version: 1\n",
      "Description: Keyword spotting classifier to detect: \"on\" and \"off\"\n",
      "Classes: on, off, _unknown_, _silence_\n",
      "hash: \n",
      "date: \n",
      "runtime_memory_size: 0\n",
      "average_window_duration_ms: 1000\n",
      "detection_threshold: 160\n",
      "suppression_ms: 750\n",
      "minimum_count: 3\n",
      "volume_gain: 2\n",
      "latency_ms: 100\n",
      "verbose_model_output_logs: False\n"
     ]
    }
   ],
   "source": [
    "# Summarize the Keras Model\n",
    "# This is the non-quantized model used for training\n",
    "# NOTE: Running this the first time may take awhile since the audio dataset needs to be downloaded\n",
    "!mltk summarize keyword_spotting_on_off --build "
   ]
  },
  {
   "cell_type": "code",
   "execution_count": 5,
   "metadata": {},
   "outputs": [
    {
     "name": "stdout",
     "output_type": "stream",
     "text": [
      "\n",
      "Epoch 1: LearningRateScheduler setting learning rate to 0.001.\n",
      "\n",
      "Epoch 2: LearningRateScheduler setting learning rate to 0.00095.\n",
      "\n",
      "Epoch 3: LearningRateScheduler setting learning rate to 0.0009025.\n",
      "C:\\Users\\reed\\workspace\\silabs\\mltk\\.venv\\lib\\site-packages\\tensorflow\\lite\\python\\convert.py:746: UserWarning: Statistics for quantized inputs were expected, but not specified; continuing anyway.\n",
      "  warnings.warn(\"Statistics for quantized inputs were expected, but not \"\n",
      "+-------+-----------------+----------------+----------------+-----------------------------------------------------+\n",
      "| Index | OpCode          | Input(s)       | Output(s)      | Config                                              |\n",
      "+-------+-----------------+----------------+----------------+-----------------------------------------------------+\n",
      "| 0     | conv_2d         | 49x32x1 (int8) | 25x16x8 (int8) | Padding:same stride:2x2 activation:relu             |\n",
      "|       |                 | 3x3x1 (int8)   |                |                                                     |\n",
      "|       |                 | 8 (int32)      |                |                                                     |\n",
      "| 1     | conv_2d         | 25x16x8 (int8) | 13x8x16 (int8) | Padding:same stride:2x2 activation:relu             |\n",
      "|       |                 | 3x3x8 (int8)   |                |                                                     |\n",
      "|       |                 | 16 (int32)     |                |                                                     |\n",
      "| 2     | conv_2d         | 13x8x16 (int8) | 7x4x32 (int8)  | Padding:same stride:2x2 activation:relu             |\n",
      "|       |                 | 3x3x16 (int8)  |                |                                                     |\n",
      "|       |                 | 32 (int32)     |                |                                                     |\n",
      "| 3     | max_pool_2d     | 7x4x32 (int8)  | 1x4x32 (int8)  | Padding:valid stride:1x7 filter:1x7 activation:none |\n",
      "| 4     | reshape         | 1x4x32 (int8)  | 128 (int8)     | BuiltinOptionsType=0                                |\n",
      "|       |                 | 2 (int32)      |                |                                                     |\n",
      "| 5     | fully_connected | 128 (int8)     | 4 (int8)       | Activation:none                                     |\n",
      "|       |                 | 128 (int8)     |                |                                                     |\n",
      "|       |                 | 4 (int32)      |                |                                                     |\n",
      "| 6     | softmax         | 4 (int8)       | 4 (int8)       | BuiltinOptionsType=9                                |\n",
      "+-------+-----------------+----------------+----------------+-----------------------------------------------------+\n",
      "Total MACs: 278.144 k\n",
      "Total OPs: 563.084 k\n",
      "Name: keyword_spotting_on_off\n",
      "Version: 1\n",
      "Description: Keyword spotting classifier to detect: \"on\" and \"off\"\n",
      "Classes: on, off, _unknown_, _silence_\n",
      "hash: a5c31da1954ca849eed61dd1007ddf58\n",
      "date: 2022-04-25T18:23:56.543Z\n",
      "runtime_memory_size: 7052\n",
      "average_window_duration_ms: 1000\n",
      "detection_threshold: 160\n",
      "suppression_ms: 750\n",
      "minimum_count: 3\n",
      "volume_gain: 2\n",
      "latency_ms: 100\n",
      "verbose_model_output_logs: False\n",
      "samplewise_norm.rescale: 0.0\n",
      "samplewise_norm.mean_and_std: False\n",
      "fe.sample_rate_hz: 8000\n",
      "fe.sample_length_ms: 1000\n",
      "fe.window_size_ms: 30\n",
      "fe.window_step_ms: 20\n",
      "fe.filterbank_n_channels: 32\n",
      "fe.filterbank_upper_band_limit: 3999.0\n",
      "fe.filterbank_lower_band_limit: 100.0\n",
      "fe.noise_reduction_enable: True\n",
      "fe.noise_reduction_smoothing_bits: 5\n",
      "fe.noise_reduction_even_smoothing: 0.004000000189989805\n",
      "fe.noise_reduction_odd_smoothing: 0.004000000189989805\n",
      "fe.noise_reduction_min_signal_remaining: 0.05000000074505806\n",
      "fe.pcan_enable: False\n",
      "fe.pcan_strength: 0.949999988079071\n",
      "fe.pcan_offset: 80.0\n",
      "fe.pcan_gain_bits: 21\n",
      "fe.log_scale_enable: True\n",
      "fe.log_scale_shift: 6\n",
      "fe.fft_length: 256\n",
      ".tflite file size: 14.4kB\n"
     ]
    }
   ],
   "source": [
    "# Summarize the TF-Lite Model\n",
    "# This is the quantized model that eventually goes on the embedded device\n",
    "!mltk summarize keyword_spotting_on_off --tflite --build"
   ]
  },
  {
   "cell_type": "markdown",
   "metadata": {},
   "source": [
    "## Model Visualization\n",
    "\n",
    "The MLTK also allows for visualizing the model in an interactive webpage.\n",
    "\n",
    "This is done using the `view` command.\n",
    "Refer to the [Model Visualization Guide](https://siliconlabs.github.io/mltk/docs/guides/model_visualizer.html) for more details on how this works.\n",
    "\n",
    "__NOTES:__  \n",
    "- This will open a new tab to your web-browser\n",
    "- You must click the opened webpage's 'Accept' button the first time it runs (and possibly re-run the command)\n",
    "- Since we have not trained our model yet, we must add the `--build` option to the command. This is not required once the model is trained.\n",
    "- This command must run locally, it will not work from a remote terminal/notebook "
   ]
  },
  {
   "cell_type": "markdown",
   "metadata": {},
   "source": [
    "### Visualize Keras model\n",
    "\n",
    "By default, the `view` command will visualize the [KerasModel](https://siliconlabs.github.io/mltk/docs/python_api/keras_model.html), the model used for training (file extension `.h5`)."
   ]
  },
  {
   "cell_type": "code",
   "execution_count": 5,
   "metadata": {},
   "outputs": [
    {
     "name": "stdout",
     "output_type": "stream",
     "text": [
      "Serving 'E:/reed/mltk/tmp_models/model.h5' at http://localhost:8080\n",
      "Stopping http://localhost:8080\n"
     ]
    }
   ],
   "source": [
    "# This will open a new tab in your web browser\n",
    "# Be sure the click the 'Accept' button in the opened webpage\n",
    "# (you may need to re-run this command after doing so)\n",
    "!mltk view keyword_spotting_on_off --build"
   ]
  },
  {
   "cell_type": "markdown",
   "metadata": {},
   "source": [
    "### Visualize TF-Lite model\n",
    "\n",
    "Alternatively, the `--tflite` flag can be used to view the [TfliteModel](https://siliconlabs.github.io/mltk/docs/python_api/tflite_model/index.html), the quantized model that is programmed to the embedded device (file extension `.tflite`).\n",
    "\n",
    "Note that the structure of the Keras and TfLite models are similar, but the TfLite model is a bit more simple. This is because the [TF-Lite Converter](https://www.tensorflow.org/lite/convert) optimized the model by merging/fusing as many layers as possible."
   ]
  },
  {
   "cell_type": "code",
   "execution_count": 6,
   "metadata": {},
   "outputs": [
    {
     "name": "stdout",
     "output_type": "stream",
     "text": [
      "\n",
      "Epoch 00001: LearningRateScheduler setting learning rate to 0.001.\n",
      "\n",
      "Epoch 00002: LearningRateScheduler setting learning rate to 0.00095.\n",
      "\n",
      "Epoch 00003: LearningRateScheduler setting learning rate to 0.0009025.\n",
      "Serving 'E:/reed/mltk/tmp_models/keyword_spotting_on_off.tflite' at http://localhost:8080\n",
      "Stopping http://localhost:8080\n"
     ]
    },
    {
     "name": "stderr",
     "output_type": "stream",
     "text": [
      "fully_quantize: 0, inference_type: 6, input_inference_type: 9, output_inference_type: 9\n"
     ]
    }
   ],
   "source": [
    "# This will open a new tab in your web browser\n",
    "# Be sure the click the 'Accept' button in the opened webpage\n",
    "# (you may need to re-run this command after doing so)\n",
    "!mltk view keyword_spotting_on_off --tflite --build"
   ]
  },
  {
   "cell_type": "markdown",
   "metadata": {},
   "source": [
    "## Model Profiler\n",
    "\n",
    "Before spending the time and energy to train the model, it may be useful to profile the model to determine how efficiently it may run on the embedded device.\n",
    "If it's determined that the model does not fit within the time or memory constraints, then the model layout should be adjusted, the model input size should be reduced, and/or a different model should be selected.\n",
    "\n",
    "For this reason, th MLTK features a model profiler. Refer to the [Model Profiler Guide](https://siliconlabs.github.io/mltk/docs/guides/model_profiler.html) for more details.\n",
    "\n",
    "__NOTE:__ The following examples use the `--build` flag since the model has not been trained yet. Once the model is trained this flag is no longer needed."
   ]
  },
  {
   "cell_type": "markdown",
   "metadata": {},
   "source": [
    "### Profile in simulator\n",
    "\n",
    "The following command will profile our model in the MVP hardware simulator and return estimates about the time and energy the model might require on the embedded device. \n",
    "\n",
    "__NOTES:__  \n",
    "- An embedded device does not needed to be locally connected to run this command.\n",
    "- Remove the `--accelerator MVP` option if you are targeting a device that does not have an MVP hardware accelerator."
   ]
  },
  {
   "cell_type": "code",
   "execution_count": 6,
   "metadata": {},
   "outputs": [
    {
     "name": "stdout",
     "output_type": "stream",
     "text": [
      "\n",
      "Epoch 1: LearningRateScheduler setting learning rate to 0.001.\n",
      "\n",
      "Epoch 2: LearningRateScheduler setting learning rate to 0.00095.\n",
      "\n",
      "Epoch 3: LearningRateScheduler setting learning rate to 0.0009025.\n",
      "C:\\Users\\reed\\workspace\\silabs\\mltk\\.venv\\lib\\site-packages\\tensorflow\\lite\\python\\convert.py:746: UserWarning: Statistics for quantized inputs were expected, but not specified; continuing anyway.\n",
      "  warnings.warn(\"Statistics for quantized inputs were expected, but not \"\n",
      "\n",
      "Profiling Summary\n",
      "Name: keyword_spotting_on_off\n",
      "Accelerator: MVP\n",
      "Input Shape: 1x49x32x1\n",
      "Input Data Type: int8\n",
      "Output Shape: 1x4\n",
      "Output Data Type: int8\n",
      "Flash, Model File Size (bytes): 14.4k\n",
      "RAM, Runtime Memory Size (bytes): 6.8k\n",
      "Operation Count: 574.5k\n",
      "Multiply-Accumulate Count: 278.1k\n",
      "Layer Count: 7\n",
      "Unsupported Layer Count: 0\n",
      "Accelerator Cycle Count: 427.8k\n",
      "CPU Cycle Count: 76.8k\n",
      "CPU Utilization (%): 16.7\n",
      "Clock Rate (hz): 80.0M\n",
      "Time (s): 5.7m\n",
      "Energy (J): 137.6u\n",
      "J/Op: 239.6p\n",
      "J/MAC: 494.8p\n",
      "Ops/s: 99.9M\n",
      "MACs/s: 48.4M\n",
      "Inference/s: 173.9\n",
      "\n",
      "Model Layers\n",
      "+-------+-----------------+--------+--------+------------+------------+------------+----------+------------------------+--------------+-----------------------------------------------------+\n",
      "| Index | OpCode          | # Ops  | # MACs | Acc Cycles | CPU Cycles | Energy (J) | Time (s) | Input Shape            | Output Shape | Options                                             |\n",
      "+-------+-----------------+--------+--------+------------+------------+------------+----------+------------------------+--------------+-----------------------------------------------------+\n",
      "| 0     | conv_2d         | 67.2k  | 28.8k  | 92.0k      | 11.5k      | 45.7u      | 1.1m     | 1x49x32x1,8x3x3x1,8    | 1x25x16x8    | Padding:same stride:2x2 activation:relu             |\n",
      "| 1     | conv_2d         | 244.6k | 119.8k | 170.2k     | 15.9k      | 45.7u      | 2.1m     | 1x25x16x8,16x3x3x8,16  | 1x13x8x16    | Padding:same stride:2x2 activation:relu             |\n",
      "| 2     | conv_2d         | 260.7k | 129.0k | 164.3k     | 15.9k      | 45.7u      | 2.1m     | 1x13x8x16,32x3x3x16,32 | 1x7x4x32     | Padding:same stride:2x2 activation:relu             |\n",
      "| 3     | max_pool_2d     | 896.0  | 0      | 576.0      | 27.3k      | 446.4n     | 341.3u   | 1x7x4x32               | 1x1x4x32     | Padding:valid stride:1x7 filter:1x7 activation:none |\n",
      "| 4     | reshape         | 0      | 0      | 0          | 264.9      | 0.0p       | 3.3u     | 1x1x4x32,2             | 1x128        | BuiltinOptionsType=0                                |\n",
      "| 5     | fully_connected | 1.0k   | 512.0  | 784.0      | 1.8k       | 50.5n      | 22.2u    | 1x128,4x128,4          | 1x4          | Activation:none                                     |\n",
      "| 6     | softmax         | 20.0   | 0      | 0          | 4.1k       | 16.5n      | 51.8u    | 1x4                    | 1x4          | BuiltinOptionsType=9                                |\n",
      "+-------+-----------------+--------+--------+------------+------------+------------+----------+------------------------+--------------+-----------------------------------------------------+\n",
      "Generating profiling report at C:/Users/reed/.mltk/models/keyword_spotting_on_off-test/profiling\n",
      "Profiling time: 57.664001 seconds\n"
     ]
    }
   ],
   "source": [
    "!mltk profile keyword_spotting_on_off --build --accelerator MVP"
   ]
  },
  {
   "cell_type": "markdown",
   "metadata": {},
   "source": [
    "### Profile on physical device\n",
    "\n",
    "Alternatively, if we have a device locally connected, we can directly profile on that instead. This is useful as the returned profiling numbers are \"real\", they are not estimated as they would be in the simulator case. \n",
    "\n",
    "To profile on a physical device, simply added the `--device` command flag.\n",
    "\n",
    "__NOTES:__  \n",
    "- An embedded device must be locally connected to run this command.\n",
    "- Remove the `--accelerator MVP` option if you are targeting a device that does not have an MVP hardware accelerator."
   ]
  },
  {
   "cell_type": "code",
   "execution_count": 7,
   "metadata": {},
   "outputs": [
    {
     "name": "stdout",
     "output_type": "stream",
     "text": [
      "\n",
      "Epoch 1: LearningRateScheduler setting learning rate to 0.001.\n",
      "\n",
      "Epoch 2: LearningRateScheduler setting learning rate to 0.00095.\n",
      "\n",
      "Epoch 3: LearningRateScheduler setting learning rate to 0.0009025.\n",
      "C:\\Users\\reed\\workspace\\silabs\\mltk\\.venv\\lib\\site-packages\\tensorflow\\lite\\python\\convert.py:746: UserWarning: Statistics for quantized inputs were expected, but not specified; continuing anyway.\n",
      "  warnings.warn(\"Statistics for quantized inputs were expected, but not \"\n",
      "Extracting: C:/Users/reed/.mltk/downloads/mltk_model_profiler-brd2601-mvp-616ee87e.zip\n",
      "to: C:/Users/reed/.mltk/firmware/mltk_model_profiler-brd2601-mvp\n",
      "(This may take awhile, please be patient ...)\n",
      "\n",
      "Profiling Summary\n",
      "Name: keyword_spotting_on_off\n",
      "Accelerator: MVP\n",
      "Input Shape: 1x49x32x1\n",
      "Input Data Type: int8\n",
      "Output Shape: 1x4\n",
      "Output Data Type: int8\n",
      "Flash, Model File Size (bytes): 14.4k\n",
      "RAM, Runtime Memory Size (bytes): 6.8k\n",
      "Operation Count: 574.5k\n",
      "Multiply-Accumulate Count: 278.1k\n",
      "Layer Count: 7\n",
      "Unsupported Layer Count: 0\n",
      "Accelerator Cycle Count: 439.8k\n",
      "CPU Cycle Count: 92.3k\n",
      "CPU Utilization (%): 18.9\n",
      "Clock Rate (hz): 80.0M\n",
      "Time (s): 6.1m\n",
      "Ops/s: 93.9M\n",
      "MACs/s: 45.4M\n",
      "Inference/s: 163.4\n",
      "\n",
      "Model Layers\n",
      "+-------+-----------------+--------+--------+------------+------------+----------+------------------------+--------------+-----------------------------------------------------+\n",
      "| Index | OpCode          | # Ops  | # MACs | Acc Cycles | CPU Cycles | Time (s) | Input Shape            | Output Shape | Options                                             |\n",
      "+-------+-----------------+--------+--------+------------+------------+----------+------------------------+--------------+-----------------------------------------------------+\n",
      "| 0     | conv_2d         | 67.2k  | 28.8k  | 98.5k      | 19.1k      | 1.3m     | 1x49x32x1,8x3x3x1,8    | 1x25x16x8    | Padding:same stride:2x2 activation:relu             |\n",
      "| 1     | conv_2d         | 244.6k | 119.8k | 173.6k     | 18.7k      | 2.2m     | 1x25x16x8,16x3x3x8,16  | 1x13x8x16    | Padding:same stride:2x2 activation:relu             |\n",
      "| 2     | conv_2d         | 260.7k | 129.0k | 166.2k     | 18.8k      | 2.1m     | 1x13x8x16,32x3x3x16,32 | 1x7x4x32     | Padding:same stride:2x2 activation:relu             |\n",
      "| 3     | max_pool_2d     | 896.0  | 0      | 800.0      | 28.2k      | 360.0u   | 1x7x4x32               | 1x1x4x32     | Padding:valid stride:1x7 filter:1x7 activation:none |\n",
      "| 4     | reshape         | 0      | 0      | 0          | 1.1k       | 0        | 1x1x4x32,2             | 1x128        | BuiltinOptionsType=0                                |\n",
      "| 5     | fully_connected | 1.0k   | 512.0  | 809.0      | 2.1k       | 60.0u    | 1x128,4x128,4          | 1x4          | Activation:none                                     |\n",
      "| 6     | softmax         | 20.0   | 0      | 0          | 4.3k       | 30.0u    | 1x4                    | 1x4          | BuiltinOptionsType=9                                |\n",
      "+-------+-----------------+--------+--------+------------+------------+----------+------------------------+--------------+-----------------------------------------------------+\n",
      "Generating profiling report at C:/Users/reed/.mltk/models/keyword_spotting_on_off-test/profiling\n",
      "Profiling time: 91.943971 seconds\n"
     ]
    }
   ],
   "source": [
    "!mltk profile keyword_spotting_on_off --build --device --accelerator MVP"
   ]
  },
  {
   "cell_type": "markdown",
   "metadata": {},
   "source": [
    "### Note about CPU utilization\n",
    "\n",
    "An important metric the model profiler provides when using the MVP hardware accelerator is `CPU Utilization`.\n",
    "This gives an indication of how much CPU is required to run the machine learning model.\n",
    "\n",
    "If no hardware accelerator is used, then the CPU utilization is 100% as 100% of the machine learning model's calculations are executed on the CPU.\n",
    "With the hardware accelerator, many of the model's calculations can be offloaded to the accelerator freeing the CPU to do other tasks.\n",
    "\n",
    "The additional CPU cycles the hardware accelerator provides can be a major benefit, especially when other tasks such as real-time audio processing are required."
   ]
  },
  {
   "cell_type": "markdown",
   "metadata": {},
   "source": [
    "## Model Training\n",
    "\n",
    "Now that we have our model fully specified and it fits within the constraints of the embedded device, we can train the model.\n",
    "\n",
    "The basic flow for model training is:\n",
    "1. Invoke the `train` command\n",
    "2. Tensorflow trains the model\n",
    "3. A [Model Archive](https://siliconlabs.github.io/mltk/docs/guides/model_archive.html) containing the trained model is generated in the same directory as the model specification script \n",
    "\n",
    "Refer to the [Model Training Guide](https://siliconlabs.github.io/mltk/docs/guides/model_training.html) for more details about this process."
   ]
  },
  {
   "cell_type": "markdown",
   "metadata": {},
   "source": [
    "### Train as a \"dry run\"\n",
    "\n",
    "Before fully training the model, sometimes it is useful to train the model as a \"dry run\" to ensure the end-to-end training process works. Here, the model is trained for a few epochs on a subset of the dataset.\n",
    "\n",
    "To train as a dry run, append `-test` to the model name.  \n",
    "At the end of training, a [Model Archive](https://siliconlabs.github.io/mltk/docs/guides/model_archive.html) with `-test` appended to the archive name is generated in the same directory as the model specification script. "
   ]
  },
  {
   "cell_type": "code",
   "execution_count": 9,
   "metadata": {},
   "outputs": [
    {
     "name": "stdout",
     "output_type": "stream",
     "text": [
      "Enabling test mode\n",
      "Model: \"keyword_spotting_on_off\"\n",
      "_________________________________________________________________\n",
      " Layer (type)                Output Shape              Param #   \n",
      "=================================================================\n",
      " conv2d (Conv2D)             (None, 25, 16, 8)         80        \n",
      "                                                                 \n",
      " batch_normalization (BatchN  (None, 25, 16, 8)        32        \n",
      " ormalization)                                                   \n",
      "                                                                 \n",
      " activation (Activation)     (None, 25, 16, 8)         0         \n",
      "                                                                 \n",
      " conv2d_1 (Conv2D)           (None, 13, 8, 16)         1168      \n",
      "                                                                 \n",
      " batch_normalization_1 (Batc  (None, 13, 8, 16)        64        \n",
      " hNormalization)                                                 \n",
      "                                                                 \n",
      " activation_1 (Activation)   (None, 13, 8, 16)         0         \n",
      "                                                                 \n",
      " dropout (Dropout)           (None, 13, 8, 16)         0         \n",
      "                                                                 \n",
      " conv2d_2 (Conv2D)           (None, 7, 4, 32)          4640      \n",
      "                                                                 \n",
      " batch_normalization_2 (Batc  (None, 7, 4, 32)         128       \n",
      " hNormalization)                                                 \n",
      "                                                                 \n",
      " activation_2 (Activation)   (None, 7, 4, 32)          0         \n",
      "                                                                 \n",
      " dropout_1 (Dropout)         (None, 7, 4, 32)          0         \n",
      "                                                                 \n",
      " max_pooling2d (MaxPooling2D  (None, 1, 4, 32)         0         \n",
      " )                                                               \n",
      "                                                                 \n",
      " flatten (Flatten)           (None, 128)               0         \n",
      "                                                                 \n",
      " dense (Dense)               (None, 4)                 516       \n",
      "                                                                 \n",
      "=================================================================\n",
      "Total params: 6,628\n",
      "Trainable params: 6,516\n",
      "Non-trainable params: 112\n",
      "_________________________________________________________________\n",
      "\n",
      "Total MACs: 278.144 k\n",
      "Total OPs: 574.468 k\n",
      "Name: keyword_spotting_on_off\n",
      "Version: 1\n",
      "Description: Keyword spotting classifier to detect: \"yes\" and \"no\"\n",
      "Classes: on, off, _unknown_, _silence_\n",
      "hash: None\n",
      "date: None\n",
      "average_window_duration_ms: 1000"
     ]
    },
    {
     "name": "stderr",
     "output_type": "stream",
     "text": [
      "fully_quantize: 0, inference_type: 6, input_inference_type: 9, output_inference_type: 9\n"
     ]
    },
    {
     "name": "stdout",
     "output_type": "stream",
     "text": [
      "\n",
      "detection_threshold: 160\n",
      "suppression_ms: 750\n",
      "minimum_count: 3\n",
      "volume_db: 5.0\n",
      "latency_ms: 0\n",
      "log_level: info\n",
      "Test mode enabled, forcing max_samples_per_class=3, batch_size=3\n",
      "NOTE: ProcessPoolManager using ThreadPool (instead of ProcessPool)\n",
      "ProcessPoolManager using 1 of 24 CPU cores\n",
      "NOTE: You may need to adjust the \"cores\" parameter of the data generator if you're experiencing performance issues\n",
      "Training dataset: Found 13 samples belonging to 4 classes:\n",
      "        on = 3\n",
      "       off = 3\n",
      " _unknown_ = 6\n",
      " _silence_ = 1\n",
      "Validation dataset: Found 13 samples belonging to 4 classes:\n",
      "        on = 3\n",
      "       off = 3\n",
      " _unknown_ = 6\n",
      " _silence_ = 1\n",
      "Forcing epochs=3 since test=true\n",
      "Class weights:\n",
      "       on = 1.08\n",
      "      off = 1.08\n",
      "_unknown_ = 0.54\n",
      "_silence_ = 3.25\n",
      "Starting model training ...\n",
      "\n",
      "Epoch 00001: LearningRateScheduler setting learning rate to 0.001.\n",
      "Epoch 1/3\n",
      "\n",
      "1/5 [=====>........................] - ETA: 20s - loss: 3.0739 - accuracy: 0.0000e+00\n",
      "2/5 [===========>..................] - ETA: 1s - loss: 1.9445 - accuracy: 0.1667     \n",
      "4/5 [=======================>......] - ETA: 0s - loss: 3.2955 - accuracy: 0.3000\n",
      "5/5 [==============================] - 7s 507ms/step - loss: 2.6482 - accuracy: 0.3846 - val_loss: 2.3505 - val_accuracy: 0.2308 - lr: 0.0010\n",
      "\n",
      "Epoch 00002: LearningRateScheduler setting learning rate to 0.00095.\n",
      "Epoch 2/3\n",
      "\n",
      "1/5 [=====>........................] - ETA: 0s - loss: 5.1078 - accuracy: 0.0000e+00\n",
      "5/5 [==============================] - ETA: 0s - loss: 2.3484 - accuracy: 0.1538    \n",
      "5/5 [==============================] - 1s 120ms/step - loss: 2.3484 - accuracy: 0.1538 - val_loss: 1.6892 - val_accuracy: 0.1538 - lr: 9.5000e-04\n",
      "\n",
      "Epoch 00003: LearningRateScheduler setting learning rate to 0.0009025.\n",
      "Epoch 3/3\n",
      "\n",
      "1/5 [=====>........................] - ETA: 0s - loss: 0.8508 - accuracy: 0.6667\n",
      "3/5 [=================>............] - ETA: 0s - loss: 1.6849 - accuracy: 0.3333\n",
      "4/5 [=======================>......] - ETA: 0s - loss: 1.5885 - accuracy: 0.3000\n",
      "5/5 [==============================] - ETA: 0s - loss: 1.5144 - accuracy: 0.3846\n",
      "5/5 [==============================] - 1s 258ms/step - loss: 1.5144 - accuracy: 0.3846 - val_loss: 1.4552 - val_accuracy: 0.2308 - lr: 9.0250e-04\n",
      "Generating C:/Users/reed/.mltk/models/keyword_spotting_on_off-test/keyword_spotting_on_off.test.h5\n",
      "\n",
      "\n",
      "*** Best training val_accuracy = 0.231\n",
      "\n",
      "\n",
      "Creating c:/users/reed/workspace/silabs/mltk/mltk/models/siliconlabs/keyword_spotting_on_off-test.mltk.zip\n",
      "Test mode enabled, forcing max_samples_per_class=3, batch_size=3\n",
      "NOTE: ProcessPoolManager using ThreadPool (instead of ProcessPool)\n",
      "ProcessPoolManager using 1 of 24 CPU cores\n",
      "NOTE: You may need to adjust the \"cores\" parameter of the data generator if you're experiencing performance issues\n",
      "Generating C:/Users/reed/.mltk/models/keyword_spotting_on_off-test/keyword_spotting_on_off.test.tflite\n",
      "Updating c:/users/reed/workspace/silabs/mltk/mltk/models/siliconlabs/keyword_spotting_on_off-test.mltk.zip\n",
      "Training complete\n",
      "Training logs here: C:/Users/reed/.mltk/models/keyword_spotting_on_off-test\n",
      "Trained model files here: c:/users/reed/workspace/silabs/mltk/mltk/models/siliconlabs/keyword_spotting_on_off-test.mltk.zip\n",
      "Evaluating the .h5 model ...\n",
      "Name: keyword_spotting_on_off\n",
      "Model Type: classification\n",
      "Overall accuracy: 23.077%\n",
      "Class accuracies:\n",
      "- on = 100.000%\n",
      "- off = 0.000%\n",
      "- _unknown_ = 0.000%\n",
      "- _silence_ = 0.000%\n",
      "Average ROC AUC: 47.738%\n",
      "Class ROC AUC:\n",
      "- off = 71.667%\n",
      "- _silence_ = 58.333%\n",
      "- on = 38.333%\n",
      "- _unknown_ = 22.619%\n",
      "\n",
      "Evaluating the .tflite model ...\n",
      "Name: keyword_spotting_on_off\n",
      "Model Type: classification\n",
      "Overall accuracy: 23.077%\n",
      "Class accuracies:\n",
      "- on = 100.000%\n",
      "- off = 0.000%\n",
      "- _unknown_ = 0.000%\n",
      "- _silence_ = 0.000%\n",
      "Average ROC AUC: 47.292%\n",
      "Class ROC AUC:\n",
      "- off = 71.667%\n",
      "- _silence_ = 54.167%\n",
      "- on = 38.333%\n",
      "- _unknown_ = 25.000%\n",
      "\n"
     ]
    }
   ],
   "source": [
    "# Train as a dry run by appending \"-test\" to the model name\n",
    "!mltk train keyword_spotting_on_off-test"
   ]
  },
  {
   "cell_type": "markdown",
   "metadata": {},
   "source": [
    "### Training locally\n",
    "\n",
    "One option for training your model is to run the `train` command in your local terminal.  \n",
    "Most of the models used by embedded devices are small enough that this is a feasible option.  \n",
    "Never the less, this is a very CPU intensive operation. Many times it's best to issue the `train` command and let it run over night.\n",
    "\n",
    "See the [Note about training time](#note-about-training-time) section below for more details.\n",
    "\n",
    "__NOTE:__ Training a model from scratch can be very time-consuming. See the [Transfer Learning Tutorial](https://siliconlabs.github.io/mltk/mltk/tutorials/keyword_spotting_with_transfer_learning.html) for how to speed this process up."
   ]
  },
  {
   "cell_type": "code",
   "execution_count": null,
   "metadata": {},
   "outputs": [],
   "source": [
    "# Be sure to replace \"keyword_spotting_on_off\"\n",
    "# with the name of your model\n",
    "# WARNING: This command may take several hours\n",
    "!mltk train keyword_spotting_on_off"
   ]
  },
  {
   "cell_type": "markdown",
   "metadata": {},
   "source": [
    "### Train in cloud\n",
    "\n",
    "Alternatively, you can _vastly_ improve the model training time by training this model in the \"cloud\".  \n",
    "See the tutorial: [Cloud Training with vast.ai](https://siliconlabs.github.io/mltk/mltk/tutorials/cloud_training_with_vast_ai.html) for more details."
   ]
  },
  {
   "cell_type": "markdown",
   "metadata": {},
   "source": [
    "### Note about training time\n",
    "\n",
    "__TL;DR:__ Improve training time by using a PC/cloud VM with lots of CPU cores (4-16)\n",
    "\n",
    "Models intended for embedded devices are typically \"small\". Thus, while one or more powerful GPUs will certainly improve training times, there is an upper limit to their benefit. Many times, the bottleneck during training comes from the data preprocessing which is usually done on the CPU. i.e. The GPU(s) train the model faster than the CPU(s) can generate the next round of training data.\n",
    "\n",
    "For this reason, it is usually beneficial to use a PC/cloud VM with multiple cores. This way, multiple CPUs can generate training data in parallel while the GPU is always fed with more training data.\n",
    "\n",
    "The MLTK comes with two packages to leverage a multi-core system:  \n",
    "- [ParallelImageDataGenerator](https://siliconlabs.github.io/mltk/docs/python_api/data_preprocessing/image_data_generator.html)\n",
    "- [ParallelAudioDataGenerator](https://siliconlabs.github.io/mltk/docs/python_api/data_preprocessing/audio_data_generator.html)\n",
    "\n",
    "These generate training data by spawning multiple [processes](https://docs.python.org/3.7/library/multiprocessing.html). This allows for multiple cores to generate training data simultaneously."
   ]
  },
  {
   "cell_type": "markdown",
   "metadata": {},
   "source": [
    "## Model Evaluation\n",
    "\n",
    "With our model trained, we can now evaluate it to see how accurate it is.\n",
    "\n",
    "The basic idea behind model evaluation is to send test samples (i.e. new, unknown samples the model was _not_ trained with) through the model, and compare the model's predictions versus the expected values. If all the model predictions match the expected values then the model is 100% accurate, and every wrong prediction decreases the model accuracy, e.g.:\n",
    "\n",
    "![Model Accuracy](https://bit.ly/3w9xQXV)  \n",
    "\n",
    "Assuming the test samples are _representative_ then the model accuracy should indicate how well it will perform in the real-world.\n",
    "\n",
    "Model evaluation is done using the `evaluate` MLTK command. Along with accuracy, the `evaluate` command generates other statistics such as [ROC-AUC](https://en.wikipedia.org/wiki/Receiver_operating_characteristic) and [Precision & Recall](https://en.wikipedia.org/wiki/Precision_and_recall).  \n",
    "Refer to the [Model Evaluation Guide](https://siliconlabs.github.io/mltk/docs/guides/model_evaluation.html) for more details about using the MLTK for model evaluation."
   ]
  },
  {
   "cell_type": "markdown",
   "metadata": {},
   "source": [
    "### Command\n",
    "\n",
    "To evaluate the newly trained model, issue the following command:\n",
    "\n",
    "__NOTE:__ Be sure to replace `keyword_spotting_on_off` with the name of your model."
   ]
  },
  {
   "cell_type": "code",
   "execution_count": null,
   "metadata": {},
   "outputs": [],
   "source": [
    "# Run the model evaluation command\n",
    "!mltk evaluate keyword_spotting_on_off --tflite --show"
   ]
  },
  {
   "cell_type": "code",
   "execution_count": 11,
   "metadata": {},
   "outputs": [
    {
     "data": {
      "image/png": "[encoded data removed]",
      "text/plain": [
       "<Figure size 432x288 with 1 Axes>"
      ]
     },
     "metadata": {
      "needs_background": "light"
     },
     "output_type": "display_data"
    },
    {
     "data": {
      "image/png": "[encoded data removed]",
      "text/plain": [
       "<Figure size 432x288 with 1 Axes>"
      ]
     },
     "metadata": {
      "needs_background": "light"
     },
     "output_type": "display_data"
    },
    {
     "data": {
      "image/png": "[encoded data removed]",
      "text/plain": [
       "<Figure size 432x288 with 1 Axes>"
      ]
     },
     "metadata": {
      "needs_background": "light"
     },
     "output_type": "display_data"
    },
    {
     "data": {
      "image/png": "[encoded data removed]",
      "text/plain": [
       "<Figure size 432x288 with 1 Axes>"
      ]
     },
     "metadata": {
      "needs_background": "light"
     },
     "output_type": "display_data"
    },
    {
     "data": {
      "image/png": "[encoded data removed]",
      "text/plain": [
       "<Figure size 432x432 with 1 Axes>"
      ]
     },
     "metadata": {
      "needs_background": "light"
     },
     "output_type": "display_data"
    },
    {
     "name": "stdout",
     "output_type": "stream",
     "text": [
      "Name: keyword_spotting_on_off\n",
      "Model Type: classification\n",
      "Overall accuracy: 89.174%\n",
      "Class accuracies:\n",
      "- _silence_ = 100.000%\n",
      "- _unknown_ = 88.981%\n",
      "- on = 88.281%\n",
      "- off = 87.200%\n",
      "Average ROC AUC: 98.475%\n",
      "Class ROC AUC:\n",
      "- _silence_ = 100.000%\n",
      "- off = 98.254%\n",
      "- on = 98.116%\n",
      "- _unknown_ = 97.528%\n",
      "\n"
     ]
    }
   ],
   "source": [
    "# For documentation purposes, we use the evaluate_model Python API so\n",
    "# the evaluation plots are generated inline with the docs\n",
    "from mltk.core import evaluate_model \n",
    "evaluation_results = evaluate_model('keyword_spotting_on_off', tflite=True, show=True)\n",
    "print(f'{evaluation_results}')"
   ]
  },
  {
   "cell_type": "markdown",
   "metadata": {},
   "source": [
    "So in this case, our model has a 88.7% overall accuracy.  \n",
    "\n",
    "Once again, please refer to the [Model Evaluation Guide](https://siliconlabs.github.io/mltk/docs/guides/model_evaluation.html) for more details about the various metrics generated by this command."
   ]
  },
  {
   "cell_type": "markdown",
   "metadata": {},
   "source": [
    "### Note about model accuracy\n",
    "\n",
    "While model accuracy is highly application-specific, an 89% accuracy of a two-keyword classification model is considered good, not great.\n",
    "Typically, model accuracy should be in the 92%-97+% range for it to perform well in the field.\n",
    "\n",
    "The following are things to keep in mind to improve the model accuracy:  \n",
    "- __Verify the dataset__ - Ensure all the samples are properly labeled and in a consistent format\n",
    "- __Improve the feature engineering__ - Give the model the best chance to learn the patterns within the data by \"amplifying\" the signal (e.g. Improve the spectrogram quality)\n",
    "- __Increase the model size__ - Increase the model size by adding more or wider layers (e.g. add more Conv2D filers)\n"
   ]
  },
  {
   "cell_type": "markdown",
   "metadata": {},
   "source": [
    "## Model Testing\n",
    "\n",
    "__NOTE:__ This section is __experimental__ and is optional for the rest of this tutorial.\n",
    "You may safely skip to the next section.\n",
    "\n",
    "During model evaluation, static audio samples are sent through the model to make predictions and determine its accuracy. While this is useful to obtain a consistent, baseline metric of model performance, this setup does not reflect the real-world application of the model.  \n",
    "In most real world applications, real-time audio is constantly streaming into the model. In this case, the same audio sample will pass multiple times through the model shifted in time each pass (see the [Keyword Spotting Overview](#machine-learning-and-keyword-spotting-overview) section above for more details.) \n",
    "\n",
    "To help evaluate this scenario, the MLTK offers the command: `classify_audio`. With this command, the trained model can be used to classify keywords detected in streaming audio from a microphone. The `classify_audio` command features:  \n",
    "- Support for executing a model on PC or embedded device\n",
    "- Support for dumping the spectrograms generated by the [AudioFeatureGenerator](https://siliconlabs.github.io/mltk/docs/python_api/data_preprocessing/audio_feature_generator.html)\n",
    "- Support for recording audio\n",
    "- Support for adjusting the detection threshold\n",
    "- Support for viewing the model prediction results in real-time\n",
    "\n",
    "__NOTE:__ The `classify_audio` command must run locally. It will not work remotely (e.g. on Colab or remote SSH)\n",
    "\n",
    "See the output of the command help for more details:"
   ]
  },
  {
   "cell_type": "code",
   "execution_count": 8,
   "metadata": {},
   "outputs": [
    {
     "name": "stdout",
     "output_type": "stream",
     "text": [
      "Usage: mltk classify_audio [OPTIONS] <model>\n",
      "\n",
      "  Classify keywords/events detected in a microphone's streaming audio\n",
      "\n",
      "  NOTE: This command is experimental. Use at your own risk!\n",
      "\n",
      "  This command runs an audio classification application on either the local PC OR\n",
      "  on an embedded target. The audio classification application loads the given \n",
      "  audio classification ML model (e.g. Keyword Spotting) and streams real-time audio\n",
      "  from the local PC's/embedded target's microphone into the ML model.\n",
      "\n",
      "  System Dataflow:\n",
      "  Microphone -> AudioFeatureGenerator -> ML Model -> Command Recognizer -> Local Terminal  \n",
      " \n",
      "  The audio classification application was adapted from TF-Lite Micro's \"Micro Speech\" \n",
      "  example:  \n",
      "  https://github.com/tensorflow/tflite-micro/tree/main/tensorflow/lite/micro/examples/micro_speech\n",
      " \n",
      "  The TFLM app was modified so that settings can be dynamically loaded from the command-line or\n",
      "  given ML model.\n",
      " \n",
      "  Refer to the mltk.models.tflite_micro.tflite_micro_speech model for a reference on how to train\n",
      "  an ML model that works the audio classification application.\n",
      " \n",
      "  ----------\n",
      "   Examples\n",
      "  ----------\n",
      " \n",
      "  # Classify audio on local PC using tflite_micro_speech model   \n",
      "  # Simulate the audio loop latency to be 200ms  \n",
      "  # i.e. If the app was running on an embedded target, it would take 200ms per audio loop  \n",
      "  # Also enable verbose logs  \n",
      "  mltk classify_audio tflite_micro_speech --latency 200 --verbose \n",
      "\n",
      "  # Classify audio on an embedded target using model: ~/workspace/my_model.tflite   \n",
      "  # and the following classifier settings:  \n",
      "  # - Set the averaging window to 1200ms (i.e. drop samples older than <now> minus window)  \n",
      "  # - Set the minimum sample count to 3 (i.e. must have at last 3 samples before classifying)  \n",
      "  # - Set the threshold to 175 (i.e. the average of the inference results within the averaging window must be at least 175 of 255)  \n",
      "  # - Set the suppression to 750ms (i.e. Once a keyword is detected, wait 750ms before detecting more keywords)  \n",
      "  # i.e. If the app was running on an embedded target, it would take 200ms per audio loop  \n",
      "  mltk classify_audio /home/john/my_model.tflite --device --window 1200ms --count 3 --threshold 175 --suppression 750  \n",
      "\n",
      "  # Classify audio and also dump the captured raw audio and spectrograms  \n",
      "  mltk classify_audio tflite_micro_speech --dump-audio --dump-spectrograms\n",
      "\n",
      "Arguments:\n",
      "  <model>  On of the following:\n",
      "           - MLTK model name \n",
      "           - Path to .tflite file\n",
      "           - Path to model archive file (.mltk.zip)\n",
      "           NOTE: The model must have been previously trained for keyword spotting  [required]\n",
      "\n",
      "Options:\n",
      "  -a, --accelerator <name>        Name of accelerator to use while executing the audio classification ML model.\n",
      "                                  If omitted, then use the reference kernels\n",
      "                                  NOTE: It is recommended to NOT use an accelerator if running on the PC since the HW simulator can be slow.\n",
      "  -d, --device                    If provided, then run the keyword spotting model on an embedded device, otherwise use the PC's local microphone.\n",
      "                                  If this option is provided, then the device must be locally connected\n",
      "  --port <port>                   Serial COM port of a locally connected embedded device.\n",
      "                                  This is only used with the --device option.\n",
      "                                  'If omitted, then attempt to automatically determine the serial COM port\n",
      "  -v, --verbose                   Enable verbose console logs\n",
      "  -w, --window_duration <duration ms>\n",
      "                                  Controls the smoothing. Drop all inference results that are older than <now> minus window_duration.\n",
      "                                  Longer durations (in milliseconds) will give a higher confidence that the results are correct, but may miss some commands\n",
      "  -c, --count <count>             The *minimum* number of inference results to\n",
      "                                  average when calculating the detection value\n",
      "  -t, --threshold <threshold>     Minimum averaged model output threshold for\n",
      "                                  a class to be considered detected, 0-255.\n",
      "                                  Higher values increase precision at the cost\n",
      "                                  of recall\n",
      "  -s, --suppression <suppression ms>\n",
      "                                  Amount of milliseconds to wait after a\n",
      "                                  keyword is detected before detecting new\n",
      "                                  keywords\n",
      "  -l, --latency <latency ms>      This the amount of time in milliseconds\n",
      "                                  between processing loops\n",
      "  -m, --microphone <name>         For non-embedded, this specifies the name of\n",
      "                                  the PC microphone to use\n",
      "  -u, --volume <volume gain>      Set the volume gain scaler (i.e. amplitude)\n",
      "                                  to apply to the microphone data. If 0 or\n",
      "                                  omitted, no scaler is applied\n",
      "  -x, --dump-audio                Dump the raw microphone and generate a\n",
      "                                  corresponding .wav file\n",
      "  -w, --dump-raw-spectrograms     Dump the raw (i.e. unquantized) generated\n",
      "                                  spectrograms to .jpg images and .mp4 video\n",
      "  -z, --dump-spectrograms         Dump the quantized generated spectrograms to\n",
      "                                  .jpg images and .mp4 video\n",
      "  -i, --sensitivity FLOAT         Sensitivity of the activity indicator LED.\n",
      "                                  Much less than 1.0 has higher sensitivity\n",
      "  --app <path>                    By default, the audio_classifier app is automatically downloaded. \n",
      "                                  This option allows for overriding with a custom built app.\n",
      "                                  Alternatively, if using the --device option, set this option to \"none\" to NOT program the audio_classifier app to the device.\n",
      "                                  In this case, ONLY the .tflite will be programmed and the existing audio_classifier app will be re-used.\n",
      "  --test                          Run as a unit test\n",
      "  --help                          Show this message and exit.\n"
     ]
    }
   ],
   "source": [
    "!mltk classify_audio --help"
   ]
  },
  {
   "cell_type": "markdown",
   "metadata": {},
   "source": [
    "### Classify audio on PC\n",
    "\n",
    "Issue the following command to use your local PC's microphone to stream real-time audio in our trained model:\n",
    "\n",
    "__NOTE:__ Be sure to replace `keyword_spotting_on_off` with your __trained__ model's name."
   ]
  },
  {
   "cell_type": "code",
   "execution_count": null,
   "metadata": {},
   "outputs": [],
   "source": [
    "# Run the audio classification application\n",
    "# Saying the keywords \"on\" or \"off\" into your PC's microphone should cause the model to detect them.\n",
    "# HINT: Add the --verbose flag to view more info from the classification app\n",
    "# NOTE: This command must be run from a local terminal\n",
    "!mltk classify_audio keyword_spotting_on_off"
   ]
  },
  {
   "cell_type": "markdown",
   "metadata": {},
   "source": [
    "### Classify audio on device\n",
    "\n",
    "Alternatively, we can run the audio classification application + model on a supported embedded device.  \n",
    "In this case, we use the embedded device's microphone and the trained model executes on the embedded device.\n",
    "\n",
    "To run on an embedded device, add the `--device` flag.\n",
    "When a keyword is detected an LED will turn on and a log will be printed to the console.\n",
    "\n",
    "__NOTE:__ A supported embedded device must be locally connected to run the command."
   ]
  },
  {
   "cell_type": "markdown",
   "metadata": {},
   "source": [
    "#### Note about DSP\n",
    "\n",
    "Currently, __your mouth must be ~2 inches from the board's microphone__ for it to reliably detect keywords.  \n",
    "This is because the board microphone's lack advanced Digital Signal Processing (DSP) features like [Beamforming](https://en.wikipedia.org/wiki/Beamforming).\n",
    "A future release of the Gecko SDK will offer this feature to improve audio quality from longer distances."
   ]
  },
  {
   "cell_type": "code",
   "execution_count": null,
   "metadata": {},
   "outputs": [],
   "source": [
    "# Run the audio classification application with MVP acceleration\n",
    "# Remove the \"--accelerator MVP\" if your device does not support the MVP.\n",
    "# Saying the keywords \"on\" or \"off\" into device's microphone should cause the model to detect them\n",
    "# which will cause the LED to turn on and a message to be printed to the console.\n",
    "# HINT: Add the --verbose flag to view more info from the classification app\n",
    "# NOTE: This command must run from a local terminal\n",
    "# NOTE: Your mouth must be ~2 inches from the board's microphone\n",
    "!mltk classify_audio keyword_spotting_on_off --device --accelerator MVP"
   ]
  },
  {
   "cell_type": "markdown",
   "metadata": {},
   "source": [
    "### Record audio and spectrograms from device\n",
    "\n",
    "Another useful feature of the `classify_audio` command is the ability to record audio and spectrograms from the embedded device.  \n",
    "This is done by adding the `--dump-audio` or `--dump-spectrograms` flags to the command.  \n",
    "When the command completes, a log directory will contain the dumped audio sound file (.wav) or dumped spectrogram images (.jpg)"
   ]
  },
  {
   "cell_type": "code",
   "execution_count": null,
   "metadata": {},
   "outputs": [],
   "source": [
    "# Dump audio from an embedded device's microphone\n",
    "# The dumped audio will be found in the log directory:\n",
    "# ~/.mltk/audio_classify_recordings/<platform>/audio\n",
    "# NOTE: This command must run from a local terminal\n",
    "!mltk classify_audio keyword_spotting_on_off --device --dump-audio"
   ]
  },
  {
   "cell_type": "code",
   "execution_count": null,
   "metadata": {},
   "outputs": [],
   "source": [
    "# Dump audio from an embedded device's microphone\n",
    "# The dumped audio will be found in the log directory:\n",
    "# ~/.mltk/audio_classify_recordings/<platform>/spectrograms\n",
    "# NOTE: This command must run from a local terminal\n",
    "!mltk classify_audio keyword_spotting_on_off --device --dump-spectrograms"
   ]
  },
  {
   "cell_type": "markdown",
   "metadata": {},
   "source": [
    "## Deploying the Model\n",
    "\n",
    "Now that we have a trained model, it is time to run it in on an embedded device.\n",
    "\n",
    "There are several different ways this can be done:\n",
    "\n",
    "### Using Simplicity Studio\n",
    "\n",
    "The standard Gecko SDK also features an [audio_classifier](https://github.com/SiliconLabs/gecko_sdk/tree/gsdk_4.0/app/common/example/audio_classifier) application.\n",
    "\n",
    "The basic sequence for updating the app with a new model is:  \n",
    "1. Using [Simplicity Studio](https://www.silabs.com/developers/simplicity-studio) create a new \"Audio Classifier\" project\n",
    "2. Extract the `.tflite` model file from the MLTK [Model Archive](https://siliconlabs.github.io/mltk/docs/guides/model_archive.html)\n",
    "3. Copy the `.tflite` model file to a Gecko SDK project in Simplicity Studio, more details [here](https://docs.silabs.com/gecko-platform/latest/machine-learning/tensorflow/getting-started)\n",
    "4. Build the Gecko SDK project via Simplicity Studio\n",
    "5. Program the built firmware image to the embedded device\n",
    "6. Run the firmware image with trained model on the embedded device\n",
    "\n",
    "When Simplicity Studio builds the project, it finds the `.tflite` model file and generates a C header file which contains a C `uint8_t` array of the binary data in the `.tflite`. The firmware then references the C array and loads it into the [Tensorflow-Lite Micro Interpreter](https://github.com/tensorflow/tflite-micro).\n",
    "\n",
    "See the [Getting Started with Machine Learning](https://docs.silabs.com/gecko-platform/latest/machine-learning/tensorflow/getting-started) Gecko SDK guide for more details.\n",
    "\n",
    "\n",
    "### Using the MLTK\n",
    "\n",
    "The MLTK supports building [C++ Applications](https://siliconlabs.github.io/mltk/docs/cpp_development/index.html).\n",
    "\n",
    "It also features an [audio_classifier](https://siliconlabs.github.io/mltk/docs/cpp_development/examples/audio_classifier.html) C++ application\n",
    "which can be built using:  \n",
    "- [Visual Studio Code](https://siliconlabs.github.io/mltk/docs/cpp_development/vscode.html) \n",
    "- [Simplicity Studio](https://siliconlabs.github.io/mltk/docs/cpp_development/simplicity_studio.html)\n",
    "- [Command Line](https://siliconlabs.github.io/mltk/docs/cpp_development/command_line.html)\n",
    "\n",
    "Refer to the [audio_classifier](https://siliconlabs.github.io/mltk/docs/cpp_development/examples/audio_classifier.html) application's documentation\n",
    "for how include your model into the built application.\n"
   ]
  }
 ],
 "metadata": {
  "kernelspec": {
   "display_name": "Python 3.10.8 ('.venv': venv)",
   "language": "python",
   "name": "python3"
  },
  "language_info": {
   "codemirror_mode": {
    "name": "ipython",
    "version": 3
   },
   "file_extension": ".py",
   "mimetype": "text/x-python",
   "name": "python",
   "nbconvert_exporter": "python",
   "pygments_lexer": "ipython3",
   "version": "3.10.8"
  },
  "orig_nbformat": 4,
  "vscode": {
   "interpreter": {
    "hash": "1b794eb47024974fee893fdb7015f3d322c4012087fc39c73069299b7c169399"
   }
  }
 },
 "nbformat": 4,
 "nbformat_minor": 2
}
